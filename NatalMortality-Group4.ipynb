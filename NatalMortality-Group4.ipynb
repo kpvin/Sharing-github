{
 "cells": [
  {
   "cell_type": "code",
   "execution_count": 1,
   "metadata": {},
   "outputs": [
    {
     "data": {
      "application/vnd.jupyter.widget-view+json": {
       "model_id": "5cda633aa9f74a6e80cb42699fee3ac8",
       "version_major": 2,
       "version_minor": 0
      },
      "text/plain": [
       "VBox()"
      ]
     },
     "metadata": {},
     "output_type": "display_data"
    },
    {
     "name": "stdout",
     "output_type": "stream",
     "text": [
      "Starting Spark application\n"
     ]
    },
    {
     "data": {
      "text/html": [
       "<table>\n",
       "<tr><th>ID</th><th>YARN Application ID</th><th>Kind</th><th>State</th><th>Spark UI</th><th>Driver log</th><th>Current session?</th></tr><tr><td>2</td><td>application_1574131643964_0003</td><td>pyspark</td><td>idle</td><td><a target=\"_blank\" href=\"http://ip-172-31-62-35.ec2.internal:20888/proxy/application_1574131643964_0003/\">Link</a></td><td><a target=\"_blank\" href=\"http://ip-172-31-59-155.ec2.internal:8042/node/containerlogs/container_1574131643964_0003_01_000001/livy\">Link</a></td><td>✔</td></tr></table>"
      ],
      "text/plain": [
       "<IPython.core.display.HTML object>"
      ]
     },
     "metadata": {},
     "output_type": "display_data"
    },
    {
     "data": {
      "application/vnd.jupyter.widget-view+json": {
       "model_id": "",
       "version_major": 2,
       "version_minor": 0
      },
      "text/plain": [
       "FloatProgress(value=0.0, bar_style='info', description='Progress:', layout=Layout(height='25px', width='50%'),…"
      ]
     },
     "metadata": {},
     "output_type": "display_data"
    },
    {
     "name": "stdout",
     "output_type": "stream",
     "text": [
      "SparkSession available as 'spark'.\n"
     ]
    },
    {
     "data": {
      "application/vnd.jupyter.widget-view+json": {
       "model_id": "",
       "version_major": 2,
       "version_minor": 0
      },
      "text/plain": [
       "FloatProgress(value=0.0, bar_style='info', description='Progress:', layout=Layout(height='25px', width='50%'),…"
      ]
     },
     "metadata": {},
     "output_type": "display_data"
    },
    {
     "name": "stderr",
     "output_type": "stream",
     "text": [
      "No module named 'matplotlib'\n",
      "Traceback (most recent call last):\n",
      "ModuleNotFoundError: No module named 'matplotlib'\n",
      "\n"
     ]
    }
   ],
   "source": [
    "import pyspark\n",
    "import pandas as pd"
   ]
  },
  {
   "cell_type": "code",
   "execution_count": 17,
   "metadata": {},
   "outputs": [
    {
     "data": {
      "application/vnd.jupyter.widget-view+json": {
       "model_id": "8dc4c74b92c64f8fa73443cc03b7dd33",
       "version_major": 2,
       "version_minor": 0
      },
      "text/plain": [
       "VBox()"
      ]
     },
     "metadata": {},
     "output_type": "display_data"
    },
    {
     "data": {
      "application/vnd.jupyter.widget-view+json": {
       "model_id": "",
       "version_major": 2,
       "version_minor": 0
      },
      "text/plain": [
       "FloatProgress(value=0.0, bar_style='info', description='Progress:', layout=Layout(height='25px', width='50%'),…"
      ]
     },
     "metadata": {},
     "output_type": "display_data"
    }
   ],
   "source": [
    "# sc.install_pypi_package(\"matplotlib\") #might need to install the matplotlib since it's not included in the bootstrap\n",
    "import matplotlib\n",
    "import matplotlib.pyplot as plt\n",
    "import numpy as np"
   ]
  },
  {
   "cell_type": "markdown",
   "metadata": {},
   "source": [
    "# Project Birth Analysis - Part I: Preprocessing:\n",
    "\n",
    "####  Kevin Phan \n",
    "\n",
    "### 1. Problem Presentation:\n",
    "\n",
    "Every year, there are millions of birth in the United States. Apart from traditional natal research, an empirical research could be conducted to understand what element could contribute to a successful childbirth. The [National Center for Health Statistics](https://www.cdc.gov/nchs/) is regularly maintaining a Vital Statistics Natality Birth Data where demographic and health data from yearly birth is collected from birth certificate.\n",
    "\n",
    "According to  [National Bureau of Economic Research](http://www.nber.org/data/vital-statistics-natality-data.html) (NBER), the data set includes...\n",
    "\n",
    ">Demographic data include variables such as date of birth, age and educational attainment of parents, marital status, live-birth order, race, sex, and geographic area. Health data include items such as birth weight, gestation, prenatal care, attendant at birth, and Apgar score. Geographic data includes state, county, city (available for cities of 250,000+ (up to 1980) and 100,000+ (1980-)), SMSA (1980-), and metropolitan and nonmetropolitan counties. \n",
    "\n",
    "By conducting data mining analysis on this dataset, a better understanding of what could contribute to a successful birth or lead to adverse event. Potentially, a clasification could be conducted with the target is childbirth mortality could be beneficial in terms of reducing the mortality rate in such a complication procedure like childbirth and decrease the economic burden"
   ]
  },
  {
   "cell_type": "markdown",
   "metadata": {},
   "source": [
    "\n",
    "### 2. Method of Analysis:\n",
    "\n",
    "- Due to the colossal nature of the dataset (millions of record yearly), one year is picked to conduct the analysis and test the feasibility of the model/hypothesis. Therefore, the most recent data **2017** is retrieved from the [NBER](http://www.nber.org/data/vital-statistics-natality-data.html) and re-uploaded to S3 Cluster (2.2GB csv format)\n",
    "- The **Variable Description (metadata)** of this dataset is referenced from [here](http://www.nber.org/natality/2017/natl2017.pdf)\n",
    "- Since this data is very high dimensional (>200 columns), we employed a backwards data analyis: data *visualization/summarization is conducted before cleaning* to better understanding the dataset since it is a new domain to us. Then possible meaningful variables would be kept for building the model - and cleaning will be conducted only to those variables.\n",
    "- Data Mining (anticipated): A Logistic Regression would be conducted with the target variable is the mortality (Infant Living at Time of Report Y/N - (`ilive`)and the dependent variables could be grouped into:\n",
    "    1. Parents Demographic: Mother Age (`mager`), Father Age (`fage`), Mother's BMI (`bmi`)\n",
    "    2. Mothers Life Style and Conditions: Number of Prenatal Visits (`previs`), Cigarette Usage (Prenatal and during Trimester), Infertility Treament Used (`rf_inftr`), Any Infections Reported eg. Gonorrhea, Syphillis, Hep BC... (`no_infec`)\n",
    "    3. Labor Process: Birthing Facility Used (`f_facility`), Route of Delivery (`me_rout`),Induction of Labor (`ld_indl`)\n",
    "    \n",
    " "
   ]
  },
  {
   "cell_type": "markdown",
   "metadata": {},
   "source": [
    "### A. Data Loading:"
   ]
  },
  {
   "cell_type": "code",
   "execution_count": 2,
   "metadata": {},
   "outputs": [
    {
     "data": {
      "application/vnd.jupyter.widget-view+json": {
       "model_id": "06f5f031254947989730e694d65c2758",
       "version_major": 2,
       "version_minor": 0
      },
      "text/plain": [
       "VBox()"
      ]
     },
     "metadata": {},
     "output_type": "display_data"
    },
    {
     "data": {
      "application/vnd.jupyter.widget-view+json": {
       "model_id": "",
       "version_major": 2,
       "version_minor": 0
      },
      "text/plain": [
       "FloatProgress(value=0.0, bar_style='info', description='Progress:', layout=Layout(height='25px', width='50%'),…"
      ]
     },
     "metadata": {},
     "output_type": "display_data"
    }
   ],
   "source": [
    "#Load Dataset from S3 Bucket\n",
    "birth = (\n",
    "spark\n",
    ".read\n",
    ".csv(\n",
    "'s3://cis4567-binhdinh/vital/natl2017.csv'\n",
    ", header=True\n",
    ", inferSchema=True)\n",
    ")"
   ]
  },
  {
   "cell_type": "code",
   "execution_count": 3,
   "metadata": {},
   "outputs": [
    {
     "data": {
      "application/vnd.jupyter.widget-view+json": {
       "model_id": "24891921e26444feb12a393f7b26987f",
       "version_major": 2,
       "version_minor": 0
      },
      "text/plain": [
       "VBox()"
      ]
     },
     "metadata": {},
     "output_type": "display_data"
    },
    {
     "data": {
      "application/vnd.jupyter.widget-view+json": {
       "model_id": "",
       "version_major": 2,
       "version_minor": 0
      },
      "text/plain": [
       "FloatProgress(value=0.0, bar_style='info', description='Progress:', layout=Layout(height='25px', width='50%'),…"
      ]
     },
     "metadata": {},
     "output_type": "display_data"
    },
    {
     "name": "stdout",
     "output_type": "stream",
     "text": [
      "There are 3864754 rows in the dataset"
     ]
    }
   ],
   "source": [
    "rows = birth.count()\n",
    "print('There are {} rows in the dataset'.format(rows))"
   ]
  },
  {
   "cell_type": "code",
   "execution_count": 4,
   "metadata": {},
   "outputs": [
    {
     "data": {
      "application/vnd.jupyter.widget-view+json": {
       "model_id": "d8fb13def3394c0f87947b64a5030919",
       "version_major": 2,
       "version_minor": 0
      },
      "text/plain": [
       "VBox()"
      ]
     },
     "metadata": {},
     "output_type": "display_data"
    },
    {
     "data": {
      "application/vnd.jupyter.widget-view+json": {
       "model_id": "",
       "version_major": 2,
       "version_minor": 0
      },
      "text/plain": [
       "FloatProgress(value=0.0, bar_style='info', description='Progress:', layout=Layout(height='25px', width='50%'),…"
      ]
     },
     "metadata": {},
     "output_type": "display_data"
    },
    {
     "name": "stdout",
     "output_type": "stream",
     "text": [
      "root\n",
      " |-- dob_yy: integer (nullable = true)\n",
      " |-- dob_mm: integer (nullable = true)\n",
      " |-- dob_tt: integer (nullable = true)\n",
      " |-- dob_wk: integer (nullable = true)\n",
      " |-- bfacil: integer (nullable = true)\n",
      " |-- f_facility: integer (nullable = true)\n",
      " |-- bfacil3: integer (nullable = true)\n",
      " |-- mage_impflg: integer (nullable = true)\n",
      " |-- mage_repflg: integer (nullable = true)\n",
      " |-- mager: integer (nullable = true)\n",
      " |-- mager14: integer (nullable = true)\n",
      " |-- mager9: integer (nullable = true)\n",
      " |-- mbstate_rec: integer (nullable = true)\n",
      " |-- restatus: integer (nullable = true)\n",
      " |-- mrace31: integer (nullable = true)\n",
      " |-- mrace6: integer (nullable = true)\n",
      " |-- mrace15: integer (nullable = true)\n",
      " |-- mbrace: integer (nullable = true)\n",
      " |-- mraceimp: integer (nullable = true)\n",
      " |-- mhisp_r: integer (nullable = true)\n",
      " |-- f_mhisp: integer (nullable = true)\n",
      " |-- mracehisp: integer (nullable = true)\n",
      " |-- mar_p: string (nullable = true)\n",
      " |-- dmar: integer (nullable = true)\n",
      " |-- mar_imp: integer (nullable = true)\n",
      " |-- f_mar_p: integer (nullable = true)\n",
      " |-- meduc: integer (nullable = true)\n",
      " |-- f_meduc: integer (nullable = true)\n",
      " |-- fagerpt_flg: integer (nullable = true)\n",
      " |-- fagecomb: integer (nullable = true)\n",
      " |-- fagerec11: integer (nullable = true)\n",
      " |-- frace31: integer (nullable = true)\n",
      " |-- frace6: integer (nullable = true)\n",
      " |-- frace15: integer (nullable = true)\n",
      " |-- fbrace: string (nullable = true)\n",
      " |-- fhisp_r: integer (nullable = true)\n",
      " |-- f_fhisp: integer (nullable = true)\n",
      " |-- fracehisp: integer (nullable = true)\n",
      " |-- feduc: integer (nullable = true)\n",
      " |-- priorlive: integer (nullable = true)\n",
      " |-- priordead: integer (nullable = true)\n",
      " |-- priorterm: integer (nullable = true)\n",
      " |-- lbo_rec: integer (nullable = true)\n",
      " |-- tbo_rec: integer (nullable = true)\n",
      " |-- illb_r: integer (nullable = true)\n",
      " |-- illb_r11: integer (nullable = true)\n",
      " |-- ilop_r: integer (nullable = true)\n",
      " |-- ilop_r11: integer (nullable = true)\n",
      " |-- ilp_r: integer (nullable = true)\n",
      " |-- ilp_r11: integer (nullable = true)\n",
      " |-- precare: integer (nullable = true)\n",
      " |-- f_mpcb: integer (nullable = true)\n",
      " |-- precare5: integer (nullable = true)\n",
      " |-- previs: integer (nullable = true)\n",
      " |-- previs_rec: integer (nullable = true)\n",
      " |-- f_tpcv: integer (nullable = true)\n",
      " |-- wic: string (nullable = true)\n",
      " |-- f_wic: integer (nullable = true)\n",
      " |-- cig_0: integer (nullable = true)\n",
      " |-- cig_1: integer (nullable = true)\n",
      " |-- cig_2: integer (nullable = true)\n",
      " |-- cig_3: integer (nullable = true)\n",
      " |-- cig0_r: integer (nullable = true)\n",
      " |-- cig1_r: integer (nullable = true)\n",
      " |-- cig2_r: integer (nullable = true)\n",
      " |-- cig3_r: integer (nullable = true)\n",
      " |-- f_cigs_0: integer (nullable = true)\n",
      " |-- f_cigs_1: integer (nullable = true)\n",
      " |-- f_cigs_2: integer (nullable = true)\n",
      " |-- f_cigs_3: integer (nullable = true)\n",
      " |-- cig_rec: string (nullable = true)\n",
      " |-- f_tobaco: integer (nullable = true)\n",
      " |-- m_ht_in: integer (nullable = true)\n",
      " |-- f_m_ht: integer (nullable = true)\n",
      " |-- bmi: double (nullable = true)\n",
      " |-- bmi_r: integer (nullable = true)\n",
      " |-- pwgt_r: integer (nullable = true)\n",
      " |-- f_pwgt: integer (nullable = true)\n",
      " |-- dwgt_r: integer (nullable = true)\n",
      " |-- f_dwgt: integer (nullable = true)\n",
      " |-- wtgain: integer (nullable = true)\n",
      " |-- wtgain_rec: integer (nullable = true)\n",
      " |-- f_wtgain: integer (nullable = true)\n",
      " |-- rf_pdiab: string (nullable = true)\n",
      " |-- rf_gdiab: string (nullable = true)\n",
      " |-- rf_phype: string (nullable = true)\n",
      " |-- rf_ghype: string (nullable = true)\n",
      " |-- rf_ehype: string (nullable = true)\n",
      " |-- rf_ppterm: string (nullable = true)\n",
      " |-- f_rf_pdiab: integer (nullable = true)\n",
      " |-- f_rf_gdiab: integer (nullable = true)\n",
      " |-- f_rf_phyper: integer (nullable = true)\n",
      " |-- f_rf_ghyper: integer (nullable = true)\n",
      " |-- f_rf_eclamp: integer (nullable = true)\n",
      " |-- f_rf_ppb: integer (nullable = true)\n",
      " |-- rf_inftr: string (nullable = true)\n",
      " |-- rf_fedrg: string (nullable = true)\n",
      " |-- rf_artec: string (nullable = true)\n",
      " |-- f_rf_inf_drg: integer (nullable = true)\n",
      " |-- f_rf_inf_art: integer (nullable = true)\n",
      " |-- rf_cesar: string (nullable = true)\n",
      " |-- rf_cesarn: integer (nullable = true)\n",
      " |-- f_rf_cesar: integer (nullable = true)\n",
      " |-- f_rf_ncesar: integer (nullable = true)\n",
      " |-- no_risks: integer (nullable = true)\n",
      " |-- ip_gon: string (nullable = true)\n",
      " |-- ip_syph: string (nullable = true)\n",
      " |-- ip_chlam: string (nullable = true)\n",
      " |-- ip_hepatb: string (nullable = true)\n",
      " |-- ip_hepatc: string (nullable = true)\n",
      " |-- f_ip_gonor: integer (nullable = true)\n",
      " |-- f_ip_syph: integer (nullable = true)\n",
      " |-- f_ip_chlam: integer (nullable = true)\n",
      " |-- f_ip_hepatb: integer (nullable = true)\n",
      " |-- f_ip_hepatc: integer (nullable = true)\n",
      " |-- no_infec: integer (nullable = true)\n",
      " |-- ob_ecvs: string (nullable = true)\n",
      " |-- ob_ecvf: string (nullable = true)\n",
      " |-- f_ob_succ: integer (nullable = true)\n",
      " |-- f_ob_fail: integer (nullable = true)\n",
      " |-- ld_indl: string (nullable = true)\n",
      " |-- ld_augm: string (nullable = true)\n",
      " |-- ld_ster: string (nullable = true)\n",
      " |-- ld_antb: string (nullable = true)\n",
      " |-- ld_chor: string (nullable = true)\n",
      " |-- ld_anes: string (nullable = true)\n",
      " |-- f_ld_indl: integer (nullable = true)\n",
      " |-- f_ld_augm: integer (nullable = true)\n",
      " |-- f_ld_ster: integer (nullable = true)\n",
      " |-- f_ld_antb: integer (nullable = true)\n",
      " |-- f_ld_chor: integer (nullable = true)\n",
      " |-- f_ld_anes: integer (nullable = true)\n",
      " |-- no_lbrdlv: integer (nullable = true)\n",
      " |-- me_pres: integer (nullable = true)\n",
      " |-- me_rout: integer (nullable = true)\n",
      " |-- me_trial: string (nullable = true)\n",
      " |-- f_me_pres: integer (nullable = true)\n",
      " |-- f_me_rout: integer (nullable = true)\n",
      " |-- f_me_trial: integer (nullable = true)\n",
      " |-- rdmeth_rec: integer (nullable = true)\n",
      " |-- dmeth_rec: integer (nullable = true)\n",
      " |-- f_dmeth_rec: integer (nullable = true)\n",
      " |-- mm_mtr: string (nullable = true)\n",
      " |-- mm_plac: string (nullable = true)\n",
      " |-- mm_rupt: string (nullable = true)\n",
      " |-- mm_uhyst: string (nullable = true)\n",
      " |-- mm_aicu: string (nullable = true)\n",
      " |-- f_mm_mtr: integer (nullable = true)\n",
      " |-- f_mm_: integer (nullable = true)\n",
      " |-- f_mm_rupt: integer (nullable = true)\n",
      " |-- f_mm_uhyst: integer (nullable = true)\n",
      " |-- f_mm_aicu: integer (nullable = true)\n",
      " |-- no_mmorb: integer (nullable = true)\n",
      " |-- attend: integer (nullable = true)\n",
      " |-- mtran: string (nullable = true)\n",
      " |-- pay: integer (nullable = true)\n",
      " |-- pay_rec: integer (nullable = true)\n",
      " |-- f_pay: integer (nullable = true)\n",
      " |-- f_pay_rec: integer (nullable = true)\n",
      " |-- apgar5: integer (nullable = true)\n",
      " |-- apgar5r: integer (nullable = true)\n",
      " |-- f_apgar5: integer (nullable = true)\n",
      " |-- apgar10: integer (nullable = true)\n",
      " |-- apgar10r: integer (nullable = true)\n",
      " |-- dplural: integer (nullable = true)\n",
      " |-- imp_plur: integer (nullable = true)\n",
      " |-- setorder_r: integer (nullable = true)\n",
      " |-- sex: string (nullable = true)\n",
      " |-- imp_sex: integer (nullable = true)\n",
      " |-- dlmp_mm: integer (nullable = true)\n",
      " |-- dlmp_yy: integer (nullable = true)\n",
      " |-- compgst_imp: integer (nullable = true)\n",
      " |-- obgest_flg: integer (nullable = true)\n",
      " |-- combgest: integer (nullable = true)\n",
      " |-- gestrec10: integer (nullable = true)\n",
      " |-- gestrec3: integer (nullable = true)\n",
      " |-- lmpused: integer (nullable = true)\n",
      " |-- oegest_comb: integer (nullable = true)\n",
      " |-- oegest_r10: integer (nullable = true)\n",
      " |-- oegest_r3: integer (nullable = true)\n",
      " |-- dbwt: integer (nullable = true)\n",
      " |-- bwtr12: integer (nullable = true)\n",
      " |-- bwtr4: integer (nullable = true)\n",
      " |-- ab_aven1: string (nullable = true)\n",
      " |-- ab_aven6: string (nullable = true)\n",
      " |-- ab_nicu: string (nullable = true)\n",
      " |-- ab_surf: string (nullable = true)\n",
      " |-- ab_anti: string (nullable = true)\n",
      " |-- ab_seiz: string (nullable = true)\n",
      " |-- f_ab_vent: integer (nullable = true)\n",
      " |-- f_ab_vent6: integer (nullable = true)\n",
      " |-- f_ab_nicu: integer (nullable = true)\n",
      " |-- f_ab_surfac: integer (nullable = true)\n",
      " |-- f_ab_antibio: integer (nullable = true)\n",
      " |-- f_ab_seiz: integer (nullable = true)\n",
      " |-- no_abnorm: integer (nullable = true)\n",
      " |-- ca_anen: string (nullable = true)\n",
      " |-- ca_mnsb: string (nullable = true)\n",
      " |-- ca_cchd: string (nullable = true)\n",
      " |-- ca_cdh: string (nullable = true)\n",
      " |-- ca_omph: string (nullable = true)\n",
      " |-- ca_gast: string (nullable = true)\n",
      " |-- f_ca_anen: integer (nullable = true)\n",
      " |-- f_ca_menin: integer (nullable = true)\n",
      " |-- f_ca_heart: integer (nullable = true)\n",
      " |-- f_ca_hernia: integer (nullable = true)\n",
      " |-- f_ca_ompha: integer (nullable = true)\n",
      " |-- f_ca_gastro: integer (nullable = true)\n",
      " |-- ca_limb: string (nullable = true)\n",
      " |-- ca_cleft: string (nullable = true)\n",
      " |-- ca_clpal: string (nullable = true)\n",
      " |-- ca_downs: string (nullable = true)\n",
      " |-- ca_disor: string (nullable = true)\n",
      " |-- ca_hypo: string (nullable = true)\n",
      " |-- f_ca_limb: integer (nullable = true)\n",
      " |-- f_ca_cleftlp: integer (nullable = true)\n",
      " |-- f_ca_cleft: integer (nullable = true)\n",
      " |-- f_ca_downs: integer (nullable = true)\n",
      " |-- f_ca_chrom: integer (nullable = true)\n",
      " |-- f_ca_hypos: integer (nullable = true)\n",
      " |-- no_congen: integer (nullable = true)\n",
      " |-- itran: string (nullable = true)\n",
      " |-- ilive: string (nullable = true)\n",
      " |-- bfed: string (nullable = true)\n",
      " |-- f_bfed: integer (nullable = true)\n",
      " |-- ubfacil: string (nullable = true)\n",
      " |-- urf_diab: string (nullable = true)\n",
      " |-- urf_chyper: string (nullable = true)\n",
      " |-- urf_phyper: string (nullable = true)\n",
      " |-- urf_eclam: string (nullable = true)\n",
      " |-- ume_forcep: string (nullable = true)\n",
      " |-- ume_vac: string (nullable = true)\n",
      " |-- uop_induc: string (nullable = true)\n",
      " |-- uld_breech: string (nullable = true)\n",
      " |-- uca_anen: string (nullable = true)\n",
      " |-- uca_spina: string (nullable = true)\n",
      " |-- uca_ompha: string (nullable = true)\n",
      " |-- uca_cleftlp: string (nullable = true)\n",
      " |-- uca_hernia: string (nullable = true)\n",
      " |-- uca_downs: string (nullable = true)"
     ]
    }
   ],
   "source": [
    "birth.printSchema()"
   ]
  },
  {
   "cell_type": "markdown",
   "metadata": {},
   "source": [
    "### B. Cleaning data:\n",
    "\n",
    "#### 1. Duplicated Value (Not Applicable):\n",
    "\n",
    "Since there is not unique identifier to determine duplicated value, and the size of data set, duplicated remove seems not neccessary. Furthermore, with such an imbalance dataset, oversampling/undersampling of data might be considered. Therefore remove duplication is not applicable to this dataset"
   ]
  },
  {
   "cell_type": "markdown",
   "metadata": {},
   "source": [
    "#### 2. Data Visualization: \n",
    "\n",
    "Since it is a big dataset, for the purpose of descriptive analysis, before cleaning the data, notable variables will be analyze to get a grasp on the distribution of the data and understand what variable can be used for modeling"
   ]
  },
  {
   "cell_type": "code",
   "execution_count": 6,
   "metadata": {},
   "outputs": [
    {
     "data": {
      "application/vnd.jupyter.widget-view+json": {
       "model_id": "32e35272b1d04f918258460abe1f1c01",
       "version_major": 2,
       "version_minor": 0
      },
      "text/plain": [
       "VBox()"
      ]
     },
     "metadata": {},
     "output_type": "display_data"
    },
    {
     "data": {
      "application/vnd.jupyter.widget-view+json": {
       "model_id": "",
       "version_major": 2,
       "version_minor": 0
      },
      "text/plain": [
       "FloatProgress(value=0.0, bar_style='info', description='Progress:', layout=Layout(height='25px', width='50%'),…"
      ]
     },
     "metadata": {},
     "output_type": "display_data"
    }
   ],
   "source": [
    "import numpy as np\n",
    "#get the histogram count for potential variables\n",
    "histogram_mother_Age = (birth.select('mager').rdd.flatMap(lambda record: record).histogram(np.linspace(0,80,15).round(1).tolist()))\n",
    "birth_facility = (birth.select('BFACIL').rdd.flatMap(lambda record: record).histogram(9))\n",
    "delivery_route = (birth.select('me_rout').rdd.flatMap(lambda record: record).histogram(9))\n"
   ]
  },
  {
   "cell_type": "markdown",
   "metadata": {},
   "source": [
    "#### a) Distribution of Mother and Father Age:\n",
    "\n",
    "- It seems that Mother and Father follows similar distribution. The slight difference is Mother's Age distribution is slightly skewed to the right where Father's Age is skewed to the left which is explainable. We would choose only Mother age for modeling due to similarity of the two distribution.\n",
    "\n",
    "- As the descriptive_states show, there is outlier is 99, which is indicated as `Unknown`. Therefore, before generating the histogram for father age, `99` value is remove"
   ]
  },
  {
   "cell_type": "code",
   "execution_count": 85,
   "metadata": {},
   "outputs": [
    {
     "data": {
      "application/vnd.jupyter.widget-view+json": {
       "model_id": "899be80b800447d9a7fd5f66b6a911e4",
       "version_major": 2,
       "version_minor": 0
      },
      "text/plain": [
       "VBox()"
      ]
     },
     "metadata": {},
     "output_type": "display_data"
    },
    {
     "data": {
      "application/vnd.jupyter.widget-view+json": {
       "model_id": "",
       "version_major": 2,
       "version_minor": 0
      },
      "text/plain": [
       "FloatProgress(value=0.0, bar_style='info', description='Progress:', layout=Layout(height='25px', width='50%'),…"
      ]
     },
     "metadata": {},
     "output_type": "display_data"
    },
    {
     "name": "stdout",
     "output_type": "stream",
     "text": [
      "+-------+-----------------+------------------+\n",
      "|summary|            mager|          fagecomb|\n",
      "+-------+-----------------+------------------+\n",
      "|  count|          3864754|           3864754|\n",
      "|   mean|28.84684380946368| 39.65671683113595|\n",
      "| stddev|5.815096482773846|22.674596561284474|\n",
      "|    min|               12|                 1|\n",
      "|    max|               50|                99|\n",
      "+-------+-----------------+------------------+"
     ]
    }
   ],
   "source": [
    "descriptive_stats = birth.describe(['mager','fagecomb'])\n",
    "descriptive_stats.show()"
   ]
  },
  {
   "cell_type": "code",
   "execution_count": 11,
   "metadata": {},
   "outputs": [
    {
     "data": {
      "application/vnd.jupyter.widget-view+json": {
       "model_id": "",
       "version_major": 2,
       "version_minor": 0
      },
      "text/plain": [
       "FloatProgress(value=0.0, bar_style='info', description='Progress:', layout=Layout(height='25px', width='50%'),…"
      ]
     },
     "metadata": {},
     "output_type": "display_data"
    },
    {
     "data": {
      "application/vnd.jupyter.widget-view+json": {
       "model_id": "",
       "version_major": 2,
       "version_minor": 0
      },
      "text/plain": [
       "FloatProgress(value=0.0, bar_style='info', description='Progress:', layout=Layout(height='25px', width='50%'),…"
      ]
     },
     "metadata": {},
     "output_type": "display_data"
    }
   ],
   "source": [
    "%%spark -o hist_M_Age \n",
    "\n",
    "hist_M_Age =  spark.createDataFrame(\n",
    "    list(zip(*histogram_mother_Age)), \n",
    "    ['bins', 'counts'])\n",
    "\n"
   ]
  },
  {
   "cell_type": "code",
   "execution_count": 22,
   "metadata": {},
   "outputs": [
    {
     "data": {
      "image/png": "[encoded data removed]",
      "text/plain": [
       "<Figure size 1080x576 with 1 Axes>"
      ]
     },
     "metadata": {
      "needs_background": "light"
     },
     "output_type": "display_data"
    }
   ],
   "source": [
    "%matplotlib inline\n",
    "import matplotlib.pyplot as plt\n",
    "\n",
    "hist_M_Age.set_index('bins'\n",
    "            ).plot(kind='bar',figsize=(15,8))\n",
    "plt.title('Distribution of Mother''s Age')\n",
    "plt.show()"
   ]
  },
  {
   "cell_type": "code",
   "execution_count": 87,
   "metadata": {},
   "outputs": [
    {
     "data": {
      "application/vnd.jupyter.widget-view+json": {
       "model_id": "cab4fb273e2c46768dd52075a45a1d69",
       "version_major": 2,
       "version_minor": 0
      },
      "text/plain": [
       "VBox()"
      ]
     },
     "metadata": {},
     "output_type": "display_data"
    },
    {
     "data": {
      "application/vnd.jupyter.widget-view+json": {
       "model_id": "",
       "version_major": 2,
       "version_minor": 0
      },
      "text/plain": [
       "FloatProgress(value=0.0, bar_style='info', description='Progress:', layout=Layout(height='25px', width='50%'),…"
      ]
     },
     "metadata": {},
     "output_type": "display_data"
    }
   ],
   "source": [
    "#Remove 99 value, which is Unknown\n",
    "histogram_father_Age = (birth.filter(birth.fagecomb !=99).\n",
    "                        select('fagecomb').rdd.flatMap(lambda record: record).\n",
    "                        histogram(np.linspace(0,80,15).round(1).tolist()))"
   ]
  },
  {
   "cell_type": "code",
   "execution_count": 88,
   "metadata": {},
   "outputs": [
    {
     "data": {
      "application/vnd.jupyter.widget-view+json": {
       "model_id": "",
       "version_major": 2,
       "version_minor": 0
      },
      "text/plain": [
       "FloatProgress(value=0.0, bar_style='info', description='Progress:', layout=Layout(height='25px', width='50%'),…"
      ]
     },
     "metadata": {},
     "output_type": "display_data"
    },
    {
     "data": {
      "application/vnd.jupyter.widget-view+json": {
       "model_id": "",
       "version_major": 2,
       "version_minor": 0
      },
      "text/plain": [
       "FloatProgress(value=0.0, bar_style='info', description='Progress:', layout=Layout(height='25px', width='50%'),…"
      ]
     },
     "metadata": {},
     "output_type": "display_data"
    }
   ],
   "source": [
    "%%spark -o hist_F_Age\n",
    "\n",
    "hist_F_Age =  spark.createDataFrame(\n",
    "    list(zip(*histogram_father_Age)), \n",
    "    ['bins', 'counts'])"
   ]
  },
  {
   "cell_type": "code",
   "execution_count": 89,
   "metadata": {},
   "outputs": [
    {
     "data": {
      "image/png": "[encoded data removed]",
      "text/plain": [
       "<Figure size 1080x576 with 1 Axes>"
      ]
     },
     "metadata": {
      "needs_background": "light"
     },
     "output_type": "display_data"
    }
   ],
   "source": [
    "%matplotlib inline\n",
    "hist_F_Age.set_index('bins'\n",
    "            ).plot(kind='bar',figsize=(15,8))\n",
    "plt.title('Distribution of Father''s Age')\n",
    "plt.show()"
   ]
  },
  {
   "cell_type": "markdown",
   "metadata": {},
   "source": [
    "#### b) Pre-natal visits:\n",
    "- The most popular number of prenatal doctor visit is 11 (while mean is 13.5), which is resemble to Doctor's recommendation:\n",
    ">- Weeks 4 to 28: 1 prenatal visit a month.\n",
    " - Weeks 28 to 36: 1 prenatal visit every 2 weeks. \n",
    " - Weeks 36 to 40: 1 prenatal visit every week.\n",
    " [Source](https://www.webmd.com/baby/how-often-do-i-need-prenatal-visits)\n",
    " \n",
    "- Again the `max` value is `99` and by checking the data dictionary, this is unknown so it is excluded when histogram is being made\n",
    "- This data is quitely skewed to the right where there are many outliers where expected mother would make more than 40 visits to docor (approximately equivalent to once a week). However, these data would not be exclude in the model, since there might indicate that the mother has many pre-existing condition?"
   ]
  },
  {
   "cell_type": "code",
   "execution_count": 96,
   "metadata": {},
   "outputs": [
    {
     "data": {
      "application/vnd.jupyter.widget-view+json": {
       "model_id": "29bbef88229744f4a20fd51bf300dbeb",
       "version_major": 2,
       "version_minor": 0
      },
      "text/plain": [
       "VBox()"
      ]
     },
     "metadata": {},
     "output_type": "display_data"
    },
    {
     "data": {
      "application/vnd.jupyter.widget-view+json": {
       "model_id": "",
       "version_major": 2,
       "version_minor": 0
      },
      "text/plain": [
       "FloatProgress(value=0.0, bar_style='info', description='Progress:', layout=Layout(height='25px', width='50%'),…"
      ]
     },
     "metadata": {},
     "output_type": "display_data"
    },
    {
     "name": "stdout",
     "output_type": "stream",
     "text": [
      "+-------+------------------+\n",
      "|summary|            previs|\n",
      "+-------+------------------+\n",
      "|  count|           3864754|\n",
      "|   mean| 13.51411706928824|\n",
      "| stddev|14.397170521938676|\n",
      "|    min|                 0|\n",
      "|    max|                99|\n",
      "+-------+------------------+"
     ]
    }
   ],
   "source": [
    "descriptive_stats = birth.describe(['previs'])\n",
    "descriptive_stats.show()"
   ]
  },
  {
   "cell_type": "code",
   "execution_count": 97,
   "metadata": {},
   "outputs": [
    {
     "data": {
      "application/vnd.jupyter.widget-view+json": {
       "model_id": "40d04b8a3eec4872a916e187dee52658",
       "version_major": 2,
       "version_minor": 0
      },
      "text/plain": [
       "VBox()"
      ]
     },
     "metadata": {},
     "output_type": "display_data"
    },
    {
     "data": {
      "application/vnd.jupyter.widget-view+json": {
       "model_id": "",
       "version_major": 2,
       "version_minor": 0
      },
      "text/plain": [
       "FloatProgress(value=0.0, bar_style='info', description='Progress:', layout=Layout(height='25px', width='50%'),…"
      ]
     },
     "metadata": {},
     "output_type": "display_data"
    }
   ],
   "source": [
    "#filter 99 value\n",
    "pre_vis = (birth.filter(birth.previs != 99).\n",
    "           select('previs').rdd.flatMap(lambda record: record).histogram(np.linspace(0,100,20).round().tolist()))"
   ]
  },
  {
   "cell_type": "code",
   "execution_count": 98,
   "metadata": {},
   "outputs": [
    {
     "data": {
      "application/vnd.jupyter.widget-view+json": {
       "model_id": "",
       "version_major": 2,
       "version_minor": 0
      },
      "text/plain": [
       "FloatProgress(value=0.0, bar_style='info', description='Progress:', layout=Layout(height='25px', width='50%'),…"
      ]
     },
     "metadata": {},
     "output_type": "display_data"
    },
    {
     "data": {
      "application/vnd.jupyter.widget-view+json": {
       "model_id": "",
       "version_major": 2,
       "version_minor": 0
      },
      "text/plain": [
       "FloatProgress(value=0.0, bar_style='info', description='Progress:', layout=Layout(height='25px', width='50%'),…"
      ]
     },
     "metadata": {},
     "output_type": "display_data"
    }
   ],
   "source": [
    "%%spark -o hist_prenatal_visits \n",
    "\n",
    "hist_prenatal_visits =  spark.createDataFrame(\n",
    "    list(zip(*pre_vis)), \n",
    "    ['bins', 'counts'])\n"
   ]
  },
  {
   "cell_type": "code",
   "execution_count": 99,
   "metadata": {},
   "outputs": [
    {
     "data": {
      "image/png": "[encoded data removed]",
      "text/plain": [
       "<Figure size 1080x576 with 1 Axes>"
      ]
     },
     "metadata": {
      "needs_background": "light"
     },
     "output_type": "display_data"
    }
   ],
   "source": [
    "%matplotlib inline\n",
    "ax = hist_prenatal_visits.set_index('bins'\n",
    "            ).plot(kind='bar',figsize=(15,8))\n",
    "plt.title('Distribution of Number of PreNatal Visits')\n",
    "for i in ax.patches:\n",
    "    ax.text(i.get_x(), i.get_height()+13000, \\\n",
    "            str(round((i.get_height()), 2)), fontsize=11, color='dimgrey',\n",
    "                )\n",
    "plt.show()"
   ]
  },
  {
   "cell_type": "markdown",
   "metadata": {},
   "source": [
    "#### c)  Mother's Smoking Habit :\n",
    "\n",
    "The dataset also reports number of daily cigarette of mothers before and during 3 tri-mester of pregnancy. Surprisingly, the distribution is not too different between cigarette habit before or during the trimester looking at the histogram. For future analysis, it might worth to just use one variable only since it might strongly correlated with each other.\n"
   ]
  },
  {
   "cell_type": "code",
   "execution_count": 100,
   "metadata": {},
   "outputs": [
    {
     "data": {
      "application/vnd.jupyter.widget-view+json": {
       "model_id": "108408942c4a4957aab45761178d7ce9",
       "version_major": 2,
       "version_minor": 0
      },
      "text/plain": [
       "VBox()"
      ]
     },
     "metadata": {},
     "output_type": "display_data"
    },
    {
     "data": {
      "application/vnd.jupyter.widget-view+json": {
       "model_id": "",
       "version_major": 2,
       "version_minor": 0
      },
      "text/plain": [
       "FloatProgress(value=0.0, bar_style='info', description='Progress:', layout=Layout(height='25px', width='50%'),…"
      ]
     },
     "metadata": {},
     "output_type": "display_data"
    },
    {
     "name": "stdout",
     "output_type": "stream",
     "text": [
      "+-------+------------------+------------------+------------------+------------------+\n",
      "|summary|             cig_0|             cig_1|             cig_2|             cig_3|\n",
      "+-------+------------------+------------------+------------------+------------------+\n",
      "|  count|           3864754|           3864754|           3864754|           3864754|\n",
      "|   mean|1.6602650517988984|1.2076321028453558|1.0351466095901576|0.9693393162928352|\n",
      "| stddev|  8.39568411805555| 7.719377269321902| 7.512743222045808| 7.437904068945614|\n",
      "|    min|                 0|                 0|                 0|                 0|\n",
      "|    max|                99|                99|                99|                99|\n",
      "+-------+------------------+------------------+------------------+------------------+"
     ]
    }
   ],
   "source": [
    "descriptive_stats = birth.describe(['cig_0','cig_1','cig_2','cig_3'])\n",
    "descriptive_stats.show()"
   ]
  },
  {
   "cell_type": "code",
   "execution_count": 101,
   "metadata": {},
   "outputs": [
    {
     "data": {
      "application/vnd.jupyter.widget-view+json": {
       "model_id": "053a7027dfb8430094dd2e0e678e0cb1",
       "version_major": 2,
       "version_minor": 0
      },
      "text/plain": [
       "VBox()"
      ]
     },
     "metadata": {},
     "output_type": "display_data"
    },
    {
     "data": {
      "application/vnd.jupyter.widget-view+json": {
       "model_id": "",
       "version_major": 2,
       "version_minor": 0
      },
      "text/plain": [
       "FloatProgress(value=0.0, bar_style='info', description='Progress:', layout=Layout(height='25px', width='50%'),…"
      ]
     },
     "metadata": {},
     "output_type": "display_data"
    }
   ],
   "source": [
    "condition_null = (birth.cig_0 !=99) & (birth.cig_1 !=99) & (birth.cig_2 !=99) & (birth.cig_3 !=99)\n",
    "cigarette_before_pregnancy = (birth.filter(condition_null).select('cig_0').rdd.flatMap(lambda record: record).histogram(np.linspace(0,50,15).round().tolist()))\n",
    "cigarette_1sttrimester = (birth.filter(condition_null).select('cig_1').rdd.flatMap(lambda record: record).histogram(np.linspace(0,50,15).round().tolist()))\n",
    "cigarette_2ndtrimester = (birth.filter(condition_null).select('cig_2').rdd.flatMap(lambda record: record).histogram(np.linspace(0,50,15).round().tolist()))\n",
    "cigarette_3rdtrimester = (birth.filter(condition_null).select('cig_3').rdd.flatMap(lambda record: record).histogram(np.linspace(0,50,15).round().tolist()))"
   ]
  },
  {
   "cell_type": "code",
   "execution_count": 25,
   "metadata": {},
   "outputs": [
    {
     "data": {
      "application/vnd.jupyter.widget-view+json": {
       "model_id": "",
       "version_major": 2,
       "version_minor": 0
      },
      "text/plain": [
       "FloatProgress(value=0.0, bar_style='info', description='Progress:', layout=Layout(height='25px', width='50%'),…"
      ]
     },
     "metadata": {},
     "output_type": "display_data"
    },
    {
     "data": {
      "application/vnd.jupyter.widget-view+json": {
       "model_id": "",
       "version_major": 2,
       "version_minor": 0
      },
      "text/plain": [
       "FloatProgress(value=0.0, bar_style='info', description='Progress:', layout=Layout(height='25px', width='50%'),…"
      ]
     },
     "metadata": {},
     "output_type": "display_data"
    }
   ],
   "source": [
    "%%spark -o hist_prepreg_cig\n",
    "\n",
    "hist_prepreg_cig =  spark.createDataFrame(\n",
    "    list(zip(*cigarette_before_pregnancy)), \n",
    "    ['bins', 'counts'])"
   ]
  },
  {
   "cell_type": "code",
   "execution_count": 102,
   "metadata": {},
   "outputs": [
    {
     "data": {
      "image/png": "[encoded data removed]",
      "text/plain": [
       "<Figure size 1080x576 with 1 Axes>"
      ]
     },
     "metadata": {
      "needs_background": "light"
     },
     "output_type": "display_data"
    }
   ],
   "source": [
    "%matplotlib inline\n",
    "\n",
    "ax=hist_prepreg_cig.set_index('bins'\n",
    "            ).plot(kind='bar',figsize=(15,8))\n",
    "for i in ax.patches:\n",
    "    ax.text(i.get_x(), i.get_height()+13000, \\\n",
    "            str(round((i.get_height()), 2)), fontsize=11, color='dimgrey',\n",
    "                )\n",
    "plt.title('Number of Daily Cigarette Before Pregnancy')\n",
    "plt.show()"
   ]
  },
  {
   "cell_type": "code",
   "execution_count": 103,
   "metadata": {},
   "outputs": [
    {
     "data": {
      "application/vnd.jupyter.widget-view+json": {
       "model_id": "",
       "version_major": 2,
       "version_minor": 0
      },
      "text/plain": [
       "FloatProgress(value=0.0, bar_style='info', description='Progress:', layout=Layout(height='25px', width='50%'),…"
      ]
     },
     "metadata": {},
     "output_type": "display_data"
    },
    {
     "data": {
      "application/vnd.jupyter.widget-view+json": {
       "model_id": "",
       "version_major": 2,
       "version_minor": 0
      },
      "text/plain": [
       "FloatProgress(value=0.0, bar_style='info', description='Progress:', layout=Layout(height='25px', width='50%'),…"
      ]
     },
     "metadata": {},
     "output_type": "display_data"
    }
   ],
   "source": [
    "%%spark -o hist_1stpreg_cig\n",
    "\n",
    "hist_1stpreg_cig =  spark.createDataFrame(\n",
    "    list(zip(*cigarette_1sttrimester)), \n",
    "    ['bins', 'counts'])"
   ]
  },
  {
   "cell_type": "code",
   "execution_count": 104,
   "metadata": {},
   "outputs": [
    {
     "data": {
      "image/png": "[encoded data removed]",
      "text/plain": [
       "<Figure size 1080x576 with 1 Axes>"
      ]
     },
     "metadata": {
      "needs_background": "light"
     },
     "output_type": "display_data"
    }
   ],
   "source": [
    "%matplotlib inline\n",
    "ax = hist_1stpreg_cig.set_index('bins'\n",
    "            ).plot(kind='bar',figsize=(15,8))\n",
    "for i in ax.patches:\n",
    "    ax.text(i.get_x(), i.get_height()+13000, \\\n",
    "            str(round((i.get_height()), 2)), fontsize=11, color='dimgrey',\n",
    "                )\n",
    "plt.title('Number of Daily Cigarette in 1st Trimester Pregnancy')\n",
    "plt.show()"
   ]
  },
  {
   "cell_type": "code",
   "execution_count": 105,
   "metadata": {},
   "outputs": [
    {
     "data": {
      "application/vnd.jupyter.widget-view+json": {
       "model_id": "",
       "version_major": 2,
       "version_minor": 0
      },
      "text/plain": [
       "FloatProgress(value=0.0, bar_style='info', description='Progress:', layout=Layout(height='25px', width='50%'),…"
      ]
     },
     "metadata": {},
     "output_type": "display_data"
    },
    {
     "data": {
      "application/vnd.jupyter.widget-view+json": {
       "model_id": "",
       "version_major": 2,
       "version_minor": 0
      },
      "text/plain": [
       "FloatProgress(value=0.0, bar_style='info', description='Progress:', layout=Layout(height='25px', width='50%'),…"
      ]
     },
     "metadata": {},
     "output_type": "display_data"
    }
   ],
   "source": [
    "%%spark -o hist_2ndpreg_cig\n",
    "\n",
    "hist_2ndpreg_cig =  spark.createDataFrame(\n",
    "    list(zip(*cigarette_2ndtrimester)), \n",
    "    ['bins', 'counts'])"
   ]
  },
  {
   "cell_type": "code",
   "execution_count": 106,
   "metadata": {},
   "outputs": [
    {
     "data": {
      "image/png": "[encoded data removed]",
      "text/plain": [
       "<Figure size 1080x576 with 1 Axes>"
      ]
     },
     "metadata": {
      "needs_background": "light"
     },
     "output_type": "display_data"
    }
   ],
   "source": [
    "%matplotlib inline\n",
    "ax = hist_2ndpreg_cig.set_index('bins'\n",
    "            ).plot(kind='bar',figsize=(15,8))\n",
    "for i in ax.patches:\n",
    "    ax.text(i.get_x(), i.get_height()+13000, \\\n",
    "            str(round((i.get_height()), 2)), fontsize=11, color='dimgrey',\n",
    "                )\n",
    "plt.title('Number of Daily Cigarette in 2nd Trimester Pregnancy')\n",
    "plt.show()"
   ]
  },
  {
   "cell_type": "code",
   "execution_count": 107,
   "metadata": {},
   "outputs": [
    {
     "data": {
      "application/vnd.jupyter.widget-view+json": {
       "model_id": "",
       "version_major": 2,
       "version_minor": 0
      },
      "text/plain": [
       "FloatProgress(value=0.0, bar_style='info', description='Progress:', layout=Layout(height='25px', width='50%'),…"
      ]
     },
     "metadata": {},
     "output_type": "display_data"
    },
    {
     "data": {
      "application/vnd.jupyter.widget-view+json": {
       "model_id": "",
       "version_major": 2,
       "version_minor": 0
      },
      "text/plain": [
       "FloatProgress(value=0.0, bar_style='info', description='Progress:', layout=Layout(height='25px', width='50%'),…"
      ]
     },
     "metadata": {},
     "output_type": "display_data"
    }
   ],
   "source": [
    "%%spark -o hist_3rdpreg_cig\n",
    "\n",
    "hist_3rdpreg_cig =  spark.createDataFrame(\n",
    "    list(zip(*cigarette_3rdtrimester)), \n",
    "    ['bins', 'counts'])"
   ]
  },
  {
   "cell_type": "code",
   "execution_count": 108,
   "metadata": {},
   "outputs": [
    {
     "data": {
      "image/png": "[encoded data removed]",
      "text/plain": [
       "<Figure size 1080x576 with 1 Axes>"
      ]
     },
     "metadata": {
      "needs_background": "light"
     },
     "output_type": "display_data"
    }
   ],
   "source": [
    "%matplotlib inline\n",
    "ax = hist_3rdpreg_cig.set_index('bins'\n",
    "            ).plot(kind='bar',figsize=(15,8))\n",
    "for i in ax.patches:\n",
    "    ax.text(i.get_x(), i.get_height()+13000, \\\n",
    "            str(round((i.get_height()), 2)), fontsize=11, color='dimgrey',\n",
    "                )\n",
    "plt.title('Number of Daily Cigarette in 3rd Trimester Pregnancy')\n",
    "plt.show()"
   ]
  },
  {
   "cell_type": "markdown",
   "metadata": {},
   "source": [
    "#### c)  Birth's Facility and Mean of Delivery\n",
    "\n",
    "Homebirth is not a popular mean of delivery in the US as proven from the dataset (which is totally contrast to countries like U.K or Australia where homebirth is a viable option for qualified mother). Due to the majority of data values fall into Hospital, this variable would not be used in modeling\n",
    "\n",
    "Also, the two most popular means of delivery are Spontaneous and C-Section. We can coded All Other as Other's as a way to reduce the dimensionality\n"
   ]
  },
  {
   "cell_type": "code",
   "execution_count": 35,
   "metadata": {},
   "outputs": [
    {
     "data": {
      "application/vnd.jupyter.widget-view+json": {
       "model_id": "",
       "version_major": 2,
       "version_minor": 0
      },
      "text/plain": [
       "FloatProgress(value=0.0, bar_style='info', description='Progress:', layout=Layout(height='25px', width='50%'),…"
      ]
     },
     "metadata": {},
     "output_type": "display_data"
    },
    {
     "data": {
      "application/vnd.jupyter.widget-view+json": {
       "model_id": "",
       "version_major": 2,
       "version_minor": 0
      },
      "text/plain": [
       "FloatProgress(value=0.0, bar_style='info', description='Progress:', layout=Layout(height='25px', width='50%'),…"
      ]
     },
     "metadata": {},
     "output_type": "display_data"
    }
   ],
   "source": [
    "%%spark -o hist_birth_facility\n",
    "\n",
    "hist_birth_facility =  spark.createDataFrame(\n",
    "    list(zip(*birth_facility)), \n",
    "    ['bins', 'counts'])"
   ]
  },
  {
   "cell_type": "code",
   "execution_count": 36,
   "metadata": {},
   "outputs": [
    {
     "data": {
      "text/plain": [
       "[]"
      ]
     },
     "execution_count": 36,
     "metadata": {},
     "output_type": "execute_result"
    },
    {
     "data": {
      "image/png": "[encoded data removed]",
      "text/plain": [
       "<Figure size 1080x576 with 1 Axes>"
      ]
     },
     "metadata": {
      "needs_background": "light"
     },
     "output_type": "display_data"
    }
   ],
   "source": [
    "%matplotlib inline\n",
    "fig = plt.figure()\n",
    "ax = fig.add_subplot(111)\n",
    "hist_birth_facility.set_index('bins'\n",
    "            ).plot(kind='bar',figsize=(15,8),ax=ax)\n",
    "ax.get_xaxis().set_ticks([])\n",
    "ax.set_alpha(0.8)\n",
    "ax.set_xlabel(['Hospital','Freestanding Birth Center',' Home (intended)','Home (not intended)','Home (unknown if intended)','Clinic / Doctor’s Office','Other','','Unknown'])\n",
    "for i in ax.patches:\n",
    "    ax.text(i.get_x()+.04, i.get_height()+12000, \\\n",
    "            str(round((i.get_height()), 2)), fontsize=11, color='dimgrey',\n",
    "                )\n",
    "plt.title('Count Plot of Facility of Birth')\n",
    "plt.plot()"
   ]
  },
  {
   "cell_type": "code",
   "execution_count": 37,
   "metadata": {},
   "outputs": [
    {
     "data": {
      "application/vnd.jupyter.widget-view+json": {
       "model_id": "",
       "version_major": 2,
       "version_minor": 0
      },
      "text/plain": [
       "FloatProgress(value=0.0, bar_style='info', description='Progress:', layout=Layout(height='25px', width='50%'),…"
      ]
     },
     "metadata": {},
     "output_type": "display_data"
    },
    {
     "data": {
      "application/vnd.jupyter.widget-view+json": {
       "model_id": "",
       "version_major": 2,
       "version_minor": 0
      },
      "text/plain": [
       "FloatProgress(value=0.0, bar_style='info', description='Progress:', layout=Layout(height='25px', width='50%'),…"
      ]
     },
     "metadata": {},
     "output_type": "display_data"
    }
   ],
   "source": [
    "%%spark -o hist_delivery_route\n",
    "\n",
    "hist_delivery_route =  spark.createDataFrame(\n",
    "    list(zip(*delivery_route)), \n",
    "    ['bins', 'counts'])"
   ]
  },
  {
   "cell_type": "code",
   "execution_count": 38,
   "metadata": {},
   "outputs": [
    {
     "data": {
      "image/png": "[encoded data removed]",
      "text/plain": [
       "<Figure size 1080x576 with 1 Axes>"
      ]
     },
     "metadata": {
      "needs_background": "light"
     },
     "output_type": "display_data"
    }
   ],
   "source": [
    "%matplotlib inline\n",
    "ax = hist_delivery_route.set_index('bins'\n",
    "            ).plot(kind='bar',figsize=(15,8))\n",
    "for i in ax.patches:\n",
    "    ax.text(i.get_x(), i.get_height()+13000, \\\n",
    "            str(round((i.get_height()), 2)), fontsize=11, color='dimgrey',\n",
    "                )\n",
    "ax.get_xaxis().set_ticks([])\n",
    "ax.set_alpha(0.8)\n",
    "ax.set_xlabel(['Spontaneous','Forceps','Vacuum','Cesarean','N/A','N/A','N/A','N/A','Unknown'])    \n",
    "plt.title('Final Route & Method of Delivery')\n",
    "plt.show()"
   ]
  },
  {
   "cell_type": "markdown",
   "metadata": {},
   "source": [
    "#### d) Relationship between mother BMI and birthweight?\n",
    "\n",
    "We are curious if there is any correlation between mother's and baby's weight. However as from the scatterplot, there does not seem any correlation between them.\n",
    "\n",
    "Similar to mother's age and smoking habit. There is no strong correlation between them\n"
   ]
  },
  {
   "cell_type": "code",
   "execution_count": 39,
   "metadata": {},
   "outputs": [
    {
     "data": {
      "application/vnd.jupyter.widget-view+json": {
       "model_id": "",
       "version_major": 2,
       "version_minor": 0
      },
      "text/plain": [
       "FloatProgress(value=0.0, bar_style='info', description='Progress:', layout=Layout(height='25px', width='50%'),…"
      ]
     },
     "metadata": {},
     "output_type": "display_data"
    },
    {
     "data": {
      "application/vnd.jupyter.widget-view+json": {
       "model_id": "",
       "version_major": 2,
       "version_minor": 0
      },
      "text/plain": [
       "FloatProgress(value=0.0, bar_style='info', description='Progress:', layout=Layout(height='25px', width='50%'),…"
      ]
     },
     "metadata": {},
     "output_type": "display_data"
    }
   ],
   "source": [
    "%%spark -o scatter\n",
    "#spark magic moves dataframe to local\n",
    "scatter = (\n",
    "    birth\n",
    "    .select('bmi', 'dbwt')\n",
    ")"
   ]
  },
  {
   "cell_type": "code",
   "execution_count": 211,
   "metadata": {},
   "outputs": [
    {
     "data": {
      "text/html": [
       "\n",
       "    <div class=\"bk-root\">\n",
       "        <a href=\"https://bokeh.pydata.org\" target=\"_blank\" class=\"bk-logo bk-logo-small bk-logo-notebook\"></a>\n",
       "        <span id=\"1692\">Loading BokehJS ...</span>\n",
       "    </div>"
      ]
     },
     "metadata": {},
     "output_type": "display_data"
    },
    {
     "data": {
      "application/javascript": [
       "\n",
       "(function(root) {\n",
       "  function now() {\n",
       "    return new Date();\n",
       "  }\n",
       "\n",
       "  var force = true;\n",
       "\n",
       "  if (typeof root._bokeh_onload_callbacks === \"undefined\" || force === true) {\n",
       "    root._bokeh_onload_callbacks = [];\n",
       "    root._bokeh_is_loading = undefined;\n",
       "  }\n",
       "\n",
       "  var JS_MIME_TYPE = 'application/javascript';\n",
       "  var HTML_MIME_TYPE = 'text/html';\n",
       "  var EXEC_MIME_TYPE = 'application/vnd.bokehjs_exec.v0+json';\n",
       "  var CLASS_NAME = 'output_bokeh rendered_html';\n",
       "\n",
       "  /**\n",
       "   * Render data to the DOM node\n",
       "   */\n",
       "  function render(props, node) {\n",
       "    var script = document.createElement(\"script\");\n",
       "    node.appendChild(script);\n",
       "  }\n",
       "\n",
       "  /**\n",
       "   * Handle when an output is cleared or removed\n",
       "   */\n",
       "  function handleClearOutput(event, handle) {\n",
       "    var cell = handle.cell;\n",
       "\n",
       "    var id = cell.output_area._bokeh_element_id;\n",
       "    var server_id = cell.output_area._bokeh_server_id;\n",
       "    // Clean up Bokeh references\n",
       "    if (id != null && id in Bokeh.index) {\n",
       "      Bokeh.index[id].model.document.clear();\n",
       "      delete Bokeh.index[id];\n",
       "    }\n",
       "\n",
       "    if (server_id !== undefined) {\n",
       "      // Clean up Bokeh references\n",
       "      var cmd = \"from bokeh.io.state import curstate; print(curstate().uuid_to_server['\" + server_id + \"'].get_sessions()[0].document.roots[0]._id)\";\n",
       "      cell.notebook.kernel.execute(cmd, {\n",
       "        iopub: {\n",
       "          output: function(msg) {\n",
       "            var id = msg.content.text.trim();\n",
       "            if (id in Bokeh.index) {\n",
       "              Bokeh.index[id].model.document.clear();\n",
       "              delete Bokeh.index[id];\n",
       "            }\n",
       "          }\n",
       "        }\n",
       "      });\n",
       "      // Destroy server and session\n",
       "      var cmd = \"import bokeh.io.notebook as ion; ion.destroy_server('\" + server_id + \"')\";\n",
       "      cell.notebook.kernel.execute(cmd);\n",
       "    }\n",
       "  }\n",
       "\n",
       "  /**\n",
       "   * Handle when a new output is added\n",
       "   */\n",
       "  function handleAddOutput(event, handle) {\n",
       "    var output_area = handle.output_area;\n",
       "    var output = handle.output;\n",
       "\n",
       "    // limit handleAddOutput to display_data with EXEC_MIME_TYPE content only\n",
       "    if ((output.output_type != \"display_data\") || (!output.data.hasOwnProperty(EXEC_MIME_TYPE))) {\n",
       "      return\n",
       "    }\n",
       "\n",
       "    var toinsert = output_area.element.find(\".\" + CLASS_NAME.split(' ')[0]);\n",
       "\n",
       "    if (output.metadata[EXEC_MIME_TYPE][\"id\"] !== undefined) {\n",
       "      toinsert[toinsert.length - 1].firstChild.textContent = output.data[JS_MIME_TYPE];\n",
       "      // store reference to embed id on output_area\n",
       "      output_area._bokeh_element_id = output.metadata[EXEC_MIME_TYPE][\"id\"];\n",
       "    }\n",
       "    if (output.metadata[EXEC_MIME_TYPE][\"server_id\"] !== undefined) {\n",
       "      var bk_div = document.createElement(\"div\");\n",
       "      bk_div.innerHTML = output.data[HTML_MIME_TYPE];\n",
       "      var script_attrs = bk_div.children[0].attributes;\n",
       "      for (var i = 0; i < script_attrs.length; i++) {\n",
       "        toinsert[toinsert.length - 1].firstChild.setAttribute(script_attrs[i].name, script_attrs[i].value);\n",
       "      }\n",
       "      // store reference to server id on output_area\n",
       "      output_area._bokeh_server_id = output.metadata[EXEC_MIME_TYPE][\"server_id\"];\n",
       "    }\n",
       "  }\n",
       "\n",
       "  function register_renderer(events, OutputArea) {\n",
       "\n",
       "    function append_mime(data, metadata, element) {\n",
       "      // create a DOM node to render to\n",
       "      var toinsert = this.create_output_subarea(\n",
       "        metadata,\n",
       "        CLASS_NAME,\n",
       "        EXEC_MIME_TYPE\n",
       "      );\n",
       "      this.keyboard_manager.register_events(toinsert);\n",
       "      // Render to node\n",
       "      var props = {data: data, metadata: metadata[EXEC_MIME_TYPE]};\n",
       "      render(props, toinsert[toinsert.length - 1]);\n",
       "      element.append(toinsert);\n",
       "      return toinsert\n",
       "    }\n",
       "\n",
       "    /* Handle when an output is cleared or removed */\n",
       "    events.on('clear_output.CodeCell', handleClearOutput);\n",
       "    events.on('delete.Cell', handleClearOutput);\n",
       "\n",
       "    /* Handle when a new output is added */\n",
       "    events.on('output_added.OutputArea', handleAddOutput);\n",
       "\n",
       "    /**\n",
       "     * Register the mime type and append_mime function with output_area\n",
       "     */\n",
       "    OutputArea.prototype.register_mime_type(EXEC_MIME_TYPE, append_mime, {\n",
       "      /* Is output safe? */\n",
       "      safe: true,\n",
       "      /* Index of renderer in `output_area.display_order` */\n",
       "      index: 0\n",
       "    });\n",
       "  }\n",
       "\n",
       "  // register the mime type if in Jupyter Notebook environment and previously unregistered\n",
       "  if (root.Jupyter !== undefined) {\n",
       "    var events = require('base/js/events');\n",
       "    var OutputArea = require('notebook/js/outputarea').OutputArea;\n",
       "\n",
       "    if (OutputArea.prototype.mime_types().indexOf(EXEC_MIME_TYPE) == -1) {\n",
       "      register_renderer(events, OutputArea);\n",
       "    }\n",
       "  }\n",
       "\n",
       "  \n",
       "  if (typeof (root._bokeh_timeout) === \"undefined\" || force === true) {\n",
       "    root._bokeh_timeout = Date.now() + 5000;\n",
       "    root._bokeh_failed_load = false;\n",
       "  }\n",
       "\n",
       "  var NB_LOAD_WARNING = {'data': {'text/html':\n",
       "     \"<div style='background-color: #fdd'>\\n\"+\n",
       "     \"<p>\\n\"+\n",
       "     \"BokehJS does not appear to have successfully loaded. If loading BokehJS from CDN, this \\n\"+\n",
       "     \"may be due to a slow or bad network connection. Possible fixes:\\n\"+\n",
       "     \"</p>\\n\"+\n",
       "     \"<ul>\\n\"+\n",
       "     \"<li>re-rerun `output_notebook()` to attempt to load from CDN again, or</li>\\n\"+\n",
       "     \"<li>use INLINE resources instead, as so:</li>\\n\"+\n",
       "     \"</ul>\\n\"+\n",
       "     \"<code>\\n\"+\n",
       "     \"from bokeh.resources import INLINE\\n\"+\n",
       "     \"output_notebook(resources=INLINE)\\n\"+\n",
       "     \"</code>\\n\"+\n",
       "     \"</div>\"}};\n",
       "\n",
       "  function display_loaded() {\n",
       "    var el = document.getElementById(\"1692\");\n",
       "    if (el != null) {\n",
       "      el.textContent = \"BokehJS is loading...\";\n",
       "    }\n",
       "    if (root.Bokeh !== undefined) {\n",
       "      if (el != null) {\n",
       "        el.textContent = \"BokehJS \" + root.Bokeh.version + \" successfully loaded.\";\n",
       "      }\n",
       "    } else if (Date.now() < root._bokeh_timeout) {\n",
       "      setTimeout(display_loaded, 100)\n",
       "    }\n",
       "  }\n",
       "\n",
       "\n",
       "  function run_callbacks() {\n",
       "    try {\n",
       "      root._bokeh_onload_callbacks.forEach(function(callback) {\n",
       "        if (callback != null)\n",
       "          callback();\n",
       "      });\n",
       "    } finally {\n",
       "      delete root._bokeh_onload_callbacks\n",
       "    }\n",
       "    console.debug(\"Bokeh: all callbacks have finished\");\n",
       "  }\n",
       "\n",
       "  function load_libs(css_urls, js_urls, callback) {\n",
       "    if (css_urls == null) css_urls = [];\n",
       "    if (js_urls == null) js_urls = [];\n",
       "\n",
       "    root._bokeh_onload_callbacks.push(callback);\n",
       "    if (root._bokeh_is_loading > 0) {\n",
       "      console.debug(\"Bokeh: BokehJS is being loaded, scheduling callback at\", now());\n",
       "      return null;\n",
       "    }\n",
       "    if (js_urls == null || js_urls.length === 0) {\n",
       "      run_callbacks();\n",
       "      return null;\n",
       "    }\n",
       "    console.debug(\"Bokeh: BokehJS not loaded, scheduling load and callback at\", now());\n",
       "    root._bokeh_is_loading = css_urls.length + js_urls.length;\n",
       "\n",
       "    function on_load() {\n",
       "      root._bokeh_is_loading--;\n",
       "      if (root._bokeh_is_loading === 0) {\n",
       "        console.debug(\"Bokeh: all BokehJS libraries/stylesheets loaded\");\n",
       "        run_callbacks()\n",
       "      }\n",
       "    }\n",
       "\n",
       "    function on_error() {\n",
       "      console.error(\"failed to load \" + url);\n",
       "    }\n",
       "\n",
       "    for (var i = 0; i < css_urls.length; i++) {\n",
       "      var url = css_urls[i];\n",
       "      const element = document.createElement(\"link\");\n",
       "      element.onload = on_load;\n",
       "      element.onerror = on_error;\n",
       "      element.rel = \"stylesheet\";\n",
       "      element.type = \"text/css\";\n",
       "      element.href = url;\n",
       "      console.debug(\"Bokeh: injecting link tag for BokehJS stylesheet: \", url);\n",
       "      document.body.appendChild(element);\n",
       "    }\n",
       "\n",
       "    for (var i = 0; i < js_urls.length; i++) {\n",
       "      var url = js_urls[i];\n",
       "      var element = document.createElement('script');\n",
       "      element.onload = on_load;\n",
       "      element.onerror = on_error;\n",
       "      element.async = false;\n",
       "      element.src = url;\n",
       "      console.debug(\"Bokeh: injecting script tag for BokehJS library: \", url);\n",
       "      document.head.appendChild(element);\n",
       "    }\n",
       "  };var element = document.getElementById(\"1692\");\n",
       "  if (element == null) {\n",
       "    console.error(\"Bokeh: ERROR: autoload.js configured with elementid '1692' but no matching script tag was found. \")\n",
       "    return false;\n",
       "  }\n",
       "\n",
       "  function inject_raw_css(css) {\n",
       "    const element = document.createElement(\"style\");\n",
       "    element.appendChild(document.createTextNode(css));\n",
       "    document.body.appendChild(element);\n",
       "  }\n",
       "\n",
       "  var js_urls = [\"https://cdn.pydata.org/bokeh/release/bokeh-1.3.4.min.js\", \"https://cdn.pydata.org/bokeh/release/bokeh-widgets-1.3.4.min.js\", \"https://cdn.pydata.org/bokeh/release/bokeh-tables-1.3.4.min.js\", \"https://cdn.pydata.org/bokeh/release/bokeh-gl-1.3.4.min.js\"];\n",
       "  var css_urls = [];\n",
       "\n",
       "  var inline_js = [\n",
       "    function(Bokeh) {\n",
       "      Bokeh.set_log_level(\"info\");\n",
       "    },\n",
       "    \n",
       "    function(Bokeh) {\n",
       "      \n",
       "    },\n",
       "    function(Bokeh) {} // ensure no trailing comma for IE\n",
       "  ];\n",
       "\n",
       "  function run_inline_js() {\n",
       "    \n",
       "    if ((root.Bokeh !== undefined) || (force === true)) {\n",
       "      for (var i = 0; i < inline_js.length; i++) {\n",
       "        inline_js[i].call(root, root.Bokeh);\n",
       "      }if (force === true) {\n",
       "        display_loaded();\n",
       "      }} else if (Date.now() < root._bokeh_timeout) {\n",
       "      setTimeout(run_inline_js, 100);\n",
       "    } else if (!root._bokeh_failed_load) {\n",
       "      console.log(\"Bokeh: BokehJS failed to load within specified timeout.\");\n",
       "      root._bokeh_failed_load = true;\n",
       "    } else if (force !== true) {\n",
       "      var cell = $(document.getElementById(\"1692\")).parents('.cell').data().cell;\n",
       "      cell.output_area.append_execute_result(NB_LOAD_WARNING)\n",
       "    }\n",
       "\n",
       "  }\n",
       "\n",
       "  if (root._bokeh_is_loading === 0) {\n",
       "    console.debug(\"Bokeh: BokehJS loaded, going straight to plotting\");\n",
       "    run_inline_js();\n",
       "  } else {\n",
       "    load_libs(css_urls, js_urls, function() {\n",
       "      console.debug(\"Bokeh: BokehJS plotting callback run at\", now());\n",
       "      run_inline_js();\n",
       "    });\n",
       "  }\n",
       "}(window));"
      ],
      "application/vnd.bokehjs_load.v0+json": "\n(function(root) {\n  function now() {\n    return new Date();\n  }\n\n  var force = true;\n\n  if (typeof root._bokeh_onload_callbacks === \"undefined\" || force === true) {\n    root._bokeh_onload_callbacks = [];\n    root._bokeh_is_loading = undefined;\n  }\n\n  \n\n  \n  if (typeof (root._bokeh_timeout) === \"undefined\" || force === true) {\n    root._bokeh_timeout = Date.now() + 5000;\n    root._bokeh_failed_load = false;\n  }\n\n  var NB_LOAD_WARNING = {'data': {'text/html':\n     \"<div style='background-color: #fdd'>\\n\"+\n     \"<p>\\n\"+\n     \"BokehJS does not appear to have successfully loaded. If loading BokehJS from CDN, this \\n\"+\n     \"may be due to a slow or bad network connection. Possible fixes:\\n\"+\n     \"</p>\\n\"+\n     \"<ul>\\n\"+\n     \"<li>re-rerun `output_notebook()` to attempt to load from CDN again, or</li>\\n\"+\n     \"<li>use INLINE resources instead, as so:</li>\\n\"+\n     \"</ul>\\n\"+\n     \"<code>\\n\"+\n     \"from bokeh.resources import INLINE\\n\"+\n     \"output_notebook(resources=INLINE)\\n\"+\n     \"</code>\\n\"+\n     \"</div>\"}};\n\n  function display_loaded() {\n    var el = document.getElementById(\"1692\");\n    if (el != null) {\n      el.textContent = \"BokehJS is loading...\";\n    }\n    if (root.Bokeh !== undefined) {\n      if (el != null) {\n        el.textContent = \"BokehJS \" + root.Bokeh.version + \" successfully loaded.\";\n      }\n    } else if (Date.now() < root._bokeh_timeout) {\n      setTimeout(display_loaded, 100)\n    }\n  }\n\n\n  function run_callbacks() {\n    try {\n      root._bokeh_onload_callbacks.forEach(function(callback) {\n        if (callback != null)\n          callback();\n      });\n    } finally {\n      delete root._bokeh_onload_callbacks\n    }\n    console.debug(\"Bokeh: all callbacks have finished\");\n  }\n\n  function load_libs(css_urls, js_urls, callback) {\n    if (css_urls == null) css_urls = [];\n    if (js_urls == null) js_urls = [];\n\n    root._bokeh_onload_callbacks.push(callback);\n    if (root._bokeh_is_loading > 0) {\n      console.debug(\"Bokeh: BokehJS is being loaded, scheduling callback at\", now());\n      return null;\n    }\n    if (js_urls == null || js_urls.length === 0) {\n      run_callbacks();\n      return null;\n    }\n    console.debug(\"Bokeh: BokehJS not loaded, scheduling load and callback at\", now());\n    root._bokeh_is_loading = css_urls.length + js_urls.length;\n\n    function on_load() {\n      root._bokeh_is_loading--;\n      if (root._bokeh_is_loading === 0) {\n        console.debug(\"Bokeh: all BokehJS libraries/stylesheets loaded\");\n        run_callbacks()\n      }\n    }\n\n    function on_error() {\n      console.error(\"failed to load \" + url);\n    }\n\n    for (var i = 0; i < css_urls.length; i++) {\n      var url = css_urls[i];\n      const element = document.createElement(\"link\");\n      element.onload = on_load;\n      element.onerror = on_error;\n      element.rel = \"stylesheet\";\n      element.type = \"text/css\";\n      element.href = url;\n      console.debug(\"Bokeh: injecting link tag for BokehJS stylesheet: \", url);\n      document.body.appendChild(element);\n    }\n\n    for (var i = 0; i < js_urls.length; i++) {\n      var url = js_urls[i];\n      var element = document.createElement('script');\n      element.onload = on_load;\n      element.onerror = on_error;\n      element.async = false;\n      element.src = url;\n      console.debug(\"Bokeh: injecting script tag for BokehJS library: \", url);\n      document.head.appendChild(element);\n    }\n  };var element = document.getElementById(\"1692\");\n  if (element == null) {\n    console.error(\"Bokeh: ERROR: autoload.js configured with elementid '1692' but no matching script tag was found. \")\n    return false;\n  }\n\n  function inject_raw_css(css) {\n    const element = document.createElement(\"style\");\n    element.appendChild(document.createTextNode(css));\n    document.body.appendChild(element);\n  }\n\n  var js_urls = [\"https://cdn.pydata.org/bokeh/release/bokeh-1.3.4.min.js\", \"https://cdn.pydata.org/bokeh/release/bokeh-widgets-1.3.4.min.js\", \"https://cdn.pydata.org/bokeh/release/bokeh-tables-1.3.4.min.js\", \"https://cdn.pydata.org/bokeh/release/bokeh-gl-1.3.4.min.js\"];\n  var css_urls = [];\n\n  var inline_js = [\n    function(Bokeh) {\n      Bokeh.set_log_level(\"info\");\n    },\n    \n    function(Bokeh) {\n      \n    },\n    function(Bokeh) {} // ensure no trailing comma for IE\n  ];\n\n  function run_inline_js() {\n    \n    if ((root.Bokeh !== undefined) || (force === true)) {\n      for (var i = 0; i < inline_js.length; i++) {\n        inline_js[i].call(root, root.Bokeh);\n      }if (force === true) {\n        display_loaded();\n      }} else if (Date.now() < root._bokeh_timeout) {\n      setTimeout(run_inline_js, 100);\n    } else if (!root._bokeh_failed_load) {\n      console.log(\"Bokeh: BokehJS failed to load within specified timeout.\");\n      root._bokeh_failed_load = true;\n    } else if (force !== true) {\n      var cell = $(document.getElementById(\"1692\")).parents('.cell').data().cell;\n      cell.output_area.append_execute_result(NB_LOAD_WARNING)\n    }\n\n  }\n\n  if (root._bokeh_is_loading === 0) {\n    console.debug(\"Bokeh: BokehJS loaded, going straight to plotting\");\n    run_inline_js();\n  } else {\n    load_libs(css_urls, js_urls, function() {\n      console.debug(\"Bokeh: BokehJS plotting callback run at\", now());\n      run_inline_js();\n    });\n  }\n}(window));"
     },
     "metadata": {},
     "output_type": "display_data"
    },
    {
     "data": {
      "text/html": [
       "\n",
       "\n",
       "\n",
       "\n",
       "\n",
       "\n",
       "  <div class=\"bk-root\" id=\"a1b22fbb-5c17-4b5a-85ed-71944494bc09\" data-root-id=\"1693\"></div>\n"
      ]
     },
     "metadata": {},
     "output_type": "display_data"
    },
    {
     "data": {
      "application/javascript": [
       "(function(root) {\n",
       "  function embed_document(root) {\n",
       "    \n",
       "  var docs_json = {\"1ba77ce4-66ff-45ee-994d-f9f4c0fdbb19\":{\"roots\":{\"references\":[{\"attributes\":{\"below\":[{\"id\":\"1704\",\"type\":\"LinearAxis\"}],\"center\":[{\"id\":\"1708\",\"type\":\"Grid\"},{\"id\":\"1713\",\"type\":\"Grid\"}],\"left\":[{\"id\":\"1709\",\"type\":\"LinearAxis\"}],\"renderers\":[{\"id\":\"1730\",\"type\":\"GlyphRenderer\"}],\"title\":{\"id\":\"1694\",\"type\":\"Title\"},\"toolbar\":{\"id\":\"1720\",\"type\":\"Toolbar\"},\"x_range\":{\"id\":\"1696\",\"type\":\"DataRange1d\"},\"x_scale\":{\"id\":\"1700\",\"type\":\"LinearScale\"},\"y_range\":{\"id\":\"1698\",\"type\":\"DataRange1d\"},\"y_scale\":{\"id\":\"1702\",\"type\":\"LinearScale\"}},\"id\":\"1693\",\"subtype\":\"Figure\",\"type\":\"Plot\"},{\"attributes\":{\"axis_label\":\"BirthWeight (in grams)\",\"formatter\":{\"id\":\"1782\",\"type\":\"BasicTickFormatter\"},\"ticker\":{\"id\":\"1710\",\"type\":\"BasicTicker\"}},\"id\":\"1709\",\"type\":\"LinearAxis\"},{\"attributes\":{\"callback\":null,\"data\":{\"x\":[32.5,20.2,28.3,24.5,15.6,20.5,21.5,27.5,28.7,26.6,30.4,44.3,20.7,99.9,21.6,22.9,22.3,29.3,22.5,30.6,21.6,27.5,28.2,25.9,24.4,99.9,99.9,23.6,20.6,41.2,18.8,23.3,19.5,36.3,18.0,27.4,23.6,30.0,36.6,29.9,20.8,25.1,45.6,22.3,21.3,21.2,20.5,32.6,29.0,22.7,35.4,34.2,23.1,30.7,29.3,38.3,41.8,27.1,22.8,19.3,34.1,19.7,21.0,26.5,22.6,99.9,25.2,30.2,34.0,45.4,22.4,24.1,24.5,27.8,25.8,28.5,21.5,32.9,37.4,23.5,22.2,22.0,41.6,27.4,47.2,22.1,27.3,30.9,26.1,32.4,26.6,99.9,26.6,38.4,19.2,20.5,22.3,27.4,25.9,32.0,24.0,99.9,27.8,21.3,34.3,23.4,29.6,18.5,32.6,25.7,28.8,21.2,31.9,22.3,25.6,36.6,18.3,20.1,20.6,22.5,20.1,21.1,29.2,23.8,24.4,25.9,22.0,23.8,41.6,24.5,25.1,32.9,23.0,27.4,33.6,34.4,28.3,20.1,39.9,38.7,23.5,25.1,27.4,26.3,20.8,31.5,29.3,28.5,20.5,36.0,22.5,28.3,39.3,20.0,32.3,23.5,22.3,22.0,20.9,36.6,21.4,99.9,19.9,21.3,19.0,24.0,21.5,29.0,24.4,29.8,22.7,25.8,26.6,21.3,23.6,24.9,36.9,21.9,39.1,27.4,43.6,29.2,18.5,25.7,23.9,18.6,30.9,26.6,24.4,31.3,23.5,38.7,38.7,25.0,33.9,33.8,23.0,26.4,26.4,21.3,21.5,24.8,32.0,26.6,21.5,28.0,24.0,52.1,19.4,30.4,25.5,32.9,49.3,25.7,28.6,22.7,26.4,40.3,25.8,28.3,20.2,23.0,31.9,29.6,22.3,22.0,25.2,19.4,99.9,20.1,22.3,25.8,21.0,27.3,39.5,27.5,39.2,28.6,24.3,30.1,21.8,23.6,28.7,26.3,32.3,16.9,20.3,20.3,24.2,25.8,24.3,20.1,30.7,23.6,28.2,29.3,28.3,24.7,21.0,26.3,23.0,26.2,19.5,22.8,32.8,26.6,26.6,28.3,24.0,31.6,27.5,24.6,32.0,18.8,28.3,29.3,27.6,29.3,22.1,25.1,34.7,19.6,20.8,28.3,33.4,30.1,30.1,22.2,26.0,26.5,25.8,23.2,21.0,26.3,31.6,32.6,27.2,33.7,26.5,21.0,32.9,23.0,22.5,25.6,19.1,26.4,23.7,18.9,21.0,20.7,33.6,19.7,28.3,19.9,26.6,23.3,25.5,25.8,28.3,30.1,34.5,24.4,33.3,21.8,24.7,27.0,31.2,26.6,31.6,23.8,31.9,38.4,31.0,30.3,23.5,24.9,22.1,27.4,21.9,21.6,27.4,19.6,20.2,19.7,26.6,27.9,22.2,39.9,26.6,33.1,23.4,20.2,27.5,26.6,20.1,30.8,47.2,20.7,24.2,46.0,24.1,27.6,30.7,34.9,23.0,23.8,28.4,22.1,29.4,99.9,21.0,25.0,17.6,23.7,26.2,36.3,19.7,24.5,26.6,46.8,26.1,26.1,20.6,26.6,23.3,34.6,29.0,34.3,20.8,33.2,99.9,26.6,28.3,44.7,24.0,27.2,19.9,21.0,29.8,29.7,43.5,22.3,24.9,20.4,26.5,29.0,21.6,25.5,39.0,25.7,21.5,18.3,38.7,28.9,27.4,36.0,25.3,28.2,21.3,34.3,23.0,25.8,31.8,99.9,20.7,18.5,99.9,99.9,20.8,22.7,23.2,42.4,45.8,39.8,24.3,24.6,26.5,28.1,20.7,21.5,32.4,48.5,24.1,36.6,21.9,29.8,29.6,28.7,37.2,21.1,36.5,32.1,28.2,18.7,31.5,24.2,22.0,17.0,34.1,31.2,31.9,28.9,21.6,23.4,33.2,42.7,25.8,24.3,29.3,21.1,21.7,34.2,25.1,25.4,29.3,20.6,25.2,38.6,21.8,35.2,28.3,24.7,36.8,23.7,22.3,25.8,19.5,26.6,23.2,23.2,23.3,21.3,35.9,25.3,34.1,20.5,24.0,32.9,23.3,33.1,21.7,35.5,26.6,27.4,23.7,47.0,24.7,28.0,21.9,20.4,30.6,23.4,37.6,36.3,32.6,21.9,25.2,19.9,35.2,33.4,29.0,21.1,27.6,26.3,23.8,20.3,17.9,25.0,40.3,22.6,29.1,20.5,32.6,24.3,24.3,28.3,21.5,16.1,20.7,20.6,19.6,52.7,38.1,25.8,23.4,17.9,29.0,21.6,23.2,24.7,23.5,25.1,21.5,32.4,30.1,22.3,34.9,21.5,19.6,29.1,22.6,21.6,25.1,23.8,27.4,17.4,18.9,19.1,23.4,23.2,25.4,31.9,24.9,27.0,35.7,20.4,21.3,26.6,44.6,99.9,99.9,22.3,34.5,23.4,27.1,18.4,16.3,25.5,23.2,39.3,24.2,21.3,21.0,49.6,22.5,26.3,20.5,28.3,33.3,34.4,31.9,28.2,23.3,20.4,19.5,20.8,28.1,25.7,22.3,20.5,21.6,18.6,20.4,26.6,26.6,26.6,45.3,21.6,23.2,34.1,23.4,21.6,32.6,27.4,21.3,27.8,24.2,30.2,37.4,20.5,20.6,20.6,26.6,30.4,32.6,34.3,30.1,20.0,33.3,25.5,24.3,22.9,20.4,38.0,22.7,29.3,24.6,23.3,27.3,24.4,19.5,25.3,24.8,21.5,31.9,22.1,24.6,38.4,23.3,27.8,21.0,22.8,35.7,32.0,22.7,22.3,21.1,22.9,28.2,23.0,28.0,26.7,23.8,29.9,26.4,21.5,26.7,41.4,22.7,17.0,29.6,35.7,21.3,24.3,20.9,25.7,29.2,21.3,21.3,21.3,20.9,20.6,31.6,19.1,24.5,25.8,28.3,19.6,20.6,23.0,18.1,18.0,24.4,24.7,29.3,30.5,42.5,21.6,21.8,17.8,20.8,29.6,29.8,21.9,22.6,25.1,27.4,34.5,37.1,31.5,29.3,38.8,28.3,21.0,25.8,19.8,32.3,26.5,28.8,36.6,24.2,24.0,33.5,25.6,32.0,19.1,27.3,32.3,23.3,23.8,21.5,56.2,22.0,18.9,20.0,20.5,20.1,26.5,40.2,26.6,21.0,32.4,18.3,29.8,28.2,23.4,30.3,37.6,28.3,39.5,23.0,29.3,26.4,28.3,27.8,21.5,22.4,32.1,35.7,27.0,32.9,37.0,21.5,22.1,25.8,39.0,41.5,28.9,19.5,20.5,39.0,33.9,25.8,27.8,25.5,37.9,34.6,20.0,31.6,41.4,22.3,38.6,32.9,31.9,25.6,21.5,25.1,33.3,24.8,21.9,25.0,21.6,22.7,23.8,99.9,37.6,22.6,22.8,23.8,22.9,38.9,19.6,29.9,24.0,26.9,32.3,19.5,99.9,23.9,21.3,25.7,20.0,18.8,18.1,32.9,23.4,23.0,24.2,29.5,22.3,24.0,37.9,24.3,19.5,26.6,39.3,23.9,20.9,21.3,23.4,15.7,22.0,29.6,29.3,20.4,20.3,30.1,32.3,29.0,28.3,28.8,27.1,20.8,23.2,57.6,28.5,99.9,31.6,99.9,27.0,42.9,26.4,56.4,23.2,41.3,21.8,99.9,18.3,20.8,30.5,24.1,29.6,32.1,23.0,26.9,31.9,25.1,25.7,24.9,33.5,21.5,28.6,21.3,99.9,19.3,99.9,99.9,37.4,25.6,19.9,18.8,23.2,29.3,25.4,24.1,29.8,26.4,36.3,35.2,34.7,34.7,29.3,23.9,23.6,36.6,24.4,24.3,25.1,28.6,25.1,22.1,22.8,30.7,18.8,21.0,22.3,32.6,22.3,29.1,33.7,32.2,19.8,99.9,24.2,28.5,19.4,21.8,25.1,25.6,25.3,24.5,28.9,35.7,33.3,26.6,20.7,25.8,21.5,29.1,39.0,33.8,36.7,37.4,24.6,33.0,28.7,28.7,21.6,34.1,33.7,36.3,40.3,26.0,21.9,15.5,17.2,31.9,22.6,27.1,21.3,19.8,23.8,23.8,29.0,19.1,32.5,28.3,31.9,24.4,19.2,25.3,25.3,31.1,21.0,26.6,28.3,37.0,25.8,25.0,29.6,32.4,36.0,30.4,23.6,23.4,24.2,35.4,18.7,34.6,19.8,25.0,19.0,26.0,35.3,30.4,28.3,24.2,23.4,28.2,23.2,26.5,27.3,29.6,23.2,26.6,21.5,21.8,34.5,33.0,26.6,19.8,30.7,25.7,30.0,28.5,20.8,21.3,24.5,27.5,23.9,18.2,17.2,37.2,23.9,26.6,30.0,27.5,21.9,99.9,21.6,22.9,20.6,22.0,99.9,33.2,23.5,29.8,99.9,23.5,32.7,20.5,32.1,99.9,21.5,31.4,23.2,99.9,23.2,25.8,31.2,39.5,25.7,24.2,21.5,32.9,25.1,25.1,31.6,29.7,40.2,38.1,25.5,22.1,36.3,21.8,23.6,26.6,26.5,27.5,40.3,20.1,33.3,22.3,30.6,19.4,21.9,32.8,31.0,24.9,44.8,37.3,24.8,37.8,22.2,24.8,29.3,29.3,52.7,30.2,25.8,40.2,27.5,20.4,23.7,21.7,23.4,22.3,21.1,38.4,24.6,37.6,21.0,18.6,32.6,27.4,19.7,27.3,23.4,19.2,34.0,24.2,24.9,22.7,26.2,43.4,29.3,21.3,29.3,29.5,27.4,24.4,20.6,29.0,21.9,22.3,32.1,26.6,22.8,38.5,28.7,22.1,31.4,31.6,44.5,28.2,29.0,36.6,23.7,21.4,26.6,21.0,24.0,31.5,24.1,20.1,27.5,39.1,22.6,30.4,19.9,27.3,20.8,37.7,33.7,34.4,24.0,29.0,23.0,30.8,23.6,35.5,26.6,24.5,18.6,35.5,18.8,34.3,24.1,24.2,29.9,22.6,40.9,28.1,19.4,31.0,30.1,20.7,34.3,23.0,25.1,23.0,20.6,33.9,17.9,24.3,24.3,32.1,23.9,22.3,23.0,43.6,27.4,31.8,26.6,25.8,31.9,31.1,32.6,23.0,26.0,25.7,20.4,21.2,18.8,28.2,29.9,30.1,22.7,20.9,30.6,16.5,22.5,33.1,23.7,35.2,17.2,43.5,31.9,21.4,22.3,33.3,22.2,22.2,42.9,37.8,26.3,23.0,36.3,28.1,42.6,23.2,25.9,99.9,35.2,28.5,45.4,21.5,23.2,19.9,99.9,22.5,99.9,29.3,24.9,30.3,99.9,23.8,18.3,30.8,19.5,24.4,20.0,20.1,25.7,23.0,34.4,23.4,30.8,27.8,35.7,19.9,21.3,21.5,25.2,30.8,40.3,23.4,28.3,19.1,40.8,23.8,39.9,28.0,44.0,27.5,18.1,25.5,23.0,22.9,25.1,35.2,30.0,35.0,24.9,99.9,34.4,25.0,24.7,24.1,37.1,36.4,23.8,20.5,99.9,36.4,24.0,33.6,32.3,29.2,20.5,27.3,20.4,20.4,99.9,26.8,26.6,34.1,23.8,24.9,28.3,23.2,21.3,21.5,26.5,25.4,29.5,27.5,24.7,25.1,48.7,39.0,36.6,30.0,23.1,28.3,22.3,25.1,24.7,21.8,31.5,26.3,18.9,33.6,33.1,24.8,17.4,27.9,99.9,23.2,27.3,27.6,40.7,28.3,27.0,32.9,25.0,25.8,24.0,27.3,44.5,99.9,21.3,21.6,36.9,22.1,41.8,22.7,21.8,33.3,25.6,22.7,19.0,23.4,18.8,25.2,29.0,35.7,21.0,19.6,28.2,21.4,32.1,22.7,27.4,25.7,31.8,30.2,23.7,21.6,23.0,27.3,21.4,29.2,21.9,32.6,26.4,26.6,22.1,24.0,22.6,23.8,30.4,28.3,22.5,16.3,30.0,19.3,22.7,34.0,23.5,25.1,29.3,25.6,44.9,26.3,20.6,28.1,24.3,39.1,21.5,18.9,20.5,26.4,25.0,27.8,32.1,25.4,21.6,41.8,25.6,21.3,19.5,23.2,31.5,31.9,21.1,37.2,24.7,22.1,21.9,21.8,29.4,27.4,29.4,28.3,25.6,26.4,20.1,27.4,19.4,23.3,44.1,24.8,19.9,23.8,23.2,38.2,24.4,25.5,25.8,24.7,30.0,20.7,22.3,40.6,31.9,30.6,45.3,15.0,23.4,31.8,29.4,31.5,22.3,26.3,31.6,31.6,28.9,19.7,23.2,37.1,99.9,21.8,29.9,31.3,21.8,19.7,23.4,41.2,32.4,33.3,35.5,23.5,17.8,38.4,24.7,24.7,17.8,30.9,30.8,23.4,27.5,26.6,25.0,20.1,23.5,26.8,37.6,29.9,26.6,39.9,27.4,39.5,34.1,37.9,36.3,31.6,25.0,23.4,28.3,21.3,27.3,21.6,33.3,19.7,27.3,32.2,24.0,24.8,42.1,19.4,23.8,35.8,25.8,20.5,20.3,30.2,25.5,28.7,25.8,28.8,26.6,24.6,32.3,21.4,22.2,30.7,30.9,25.3,27.5,29.3,20.7,25.8,21.9,39.1,29.7,33.3,22.5,31.2,28.3,23.0,28.3,28.1,24.1,99.9,21.5,22.3,22.6,30.2,26.5,22.3,21.1,38.2,20.8,22.7,23.3,42.0,24.0,21.5,30.9,24.5,19.3,24.9,20.2,24.9,30.4,23.4,21.9,22.9,24.2,20.6,26.2,21.5,33.1,31.9,32.1,23.0,99.9,34.6,26.6,22.5,23.6,25.7,43.6,29.9,32.4,25.1,29.7,44.5,24.7,33.7,28.3,29.3,28.5,40.9,27.3,27.4,32.7,23.4,22.5,25.8,19.4,24.0,32.8,31.6,29.1,21.4,22.6,25.3,23.0,23.2,22.5,19.8,24.4,23.8,37.1,41.8,26.2,25.7,31.9,26.3,26.9,27.1,21.1,24.8,30.4,22.9,29.6,37.8,26.6,99.9,27.8,18.3,30.1,30.7,21.6,22.3,38.1,33.8,19.1,21.9,29.1,31.6,31.6,21.9,40.6,25.7,28.2,24.7,44.0,35.7,18.4,24.3,26.6,34.3,26.6,16.8,22.3,29.9,30.0,33.2,36.2,27.4,31.4,30.0,29.1,19.4,22.5,23.0,21.6,23.6,26.7,21.1,34.3,25.7,18.9,24.9,21.5,22.5,23.8,32.9,35.2,23.2,22.8,28.3,23.0,23.0,21.3,18.8,28.9,24.7,19.5,22.1,24.1,32.1,25.6,19.5,26.0,35.5,38.6,32.8,24.0,33.3,20.0,22.7,29.7,21.6,30.4,18.0,18.9,29.1,28.5,28.7,24.2,20.1,21.0,21.2,20.6,28.9,28.0,22.8,24.7,26.6,35.0,33.3,34.7,24.0,31.9,23.2,27.4,28.3,20.5,30.2,33.8,29.2,39.9,23.6,28.9,33.3,31.6,40.3,21.4,23.7,21.9,34.7,24.1,43.5,21.8,27.5,24.1,24.7,31.4,22.9,31.1,21.9,22.0,26.2,23.8,24.8,22.7,23.8,27.4,19.9,19.5,20.4,18.6,22.7,50.2,22.7,26.6,32.6,45.2,25.7,25.0,21.3,27.5,18.5,17.2,25.4,20.7,39.7,29.4,28.1,25.1,28.1,25.5,34.6,26.6,25.0,27.4,27.5,30.9,25.8,26.3,26.3,31.1,24.5,23.6,29.2,24.7,34.8,23.9,24.6,23.6,25.8,36.6,20.8,22.3,23.8,26.0,25.0,34.0,23.3,35.1,22.6,31.2,26.4,25.1,28.5,23.4,27.3,25.9,21.3,32.4,28.5,19.4,20.6,31.8,25.8,18.9,99.9,25.2,22.8,20.4,41.2,17.4,31.6,24.0,28.2,36.5,34.0,23.2,22.7,32.3,34.7,31.6,31.9,25.8,20.2,24.3,21.9,39.7,26.3,99.9,26.7,26.9,43.1,21.8,25.0,18.8,21.9,24.0,26.8,31.7,16.6,25.7,23.3,25.7,17.4,28.8,28.7,29.5,38.9,42.3,23.6,24.0,22.6,24.3,25.0,32.3,27.5,22.9,19.6,32.3,26.9,26.3,21.6,35.7,28.2,21.6,43.5,24.5,18.9,39.9,23.0,24.8,30.6,30.9,22.6,33.9,20.3,46.8,20.1,36.0,36.6,43.1,28.0,22.3,24.1,27.7,30.5,20.1,20.2,31.0,46.2,31.1,36.8,26.9,21.9,28.7,22.9,20.5,24.1,37.4,21.5,25.0,35.2,22.5,22.8,20.6,35.3,48.1,26.6,34.9,41.3,39.2,18.0,20.8,26.0,22.0,28.0,29.3,37.4,20.7,20.6,20.8,37.4,21.8,25.7,25.8,28.2,21.6,21.3,29.9,46.4,24.1,23.9,21.5,34.5,31.0,29.0,22.9,22.7,27.5,22.5,23.6,20.5,20.4,25.4,21.0,25.2,23.0,22.3,99.9,43.7,22.8,27.9,99.9,24.8,20.9,29.2,21.5,27.4,27.4,39.2,37.8,26.3,36.9,21.6,33.4,24.8,32.6,30.4,46.7,20.8,21.9,20.7,30.4,22.5,21.5,25.1,32.8,21.3,37.1,21.8,24.7,24.0,20.8,27.8,25.1,23.2,21.9,33.7,20.2,20.2,24.2,18.6,44.9,99.9,37.6,28.2,20.1,19.7,25.7,22.0,27.5,25.2,31.6,31.9,23.3,20.7,32.4,39.0,26.6,25.0,26.4,34.0,21.9,24.4,19.1,22.9,23.6,33.9,23.4,24.8,22.7,27.3,17.2,31.1,21.1,28.3,21.1,23.8,33.1,36.5,22.9,26.2,28.3,23.4,31.2,21.5,22.8,21.0,24.6,21.3,23.8,24.9,33.3,21.0,21.0,32.9,25.4,24.1,23.8,22.5,18.3,18.9,24.3,23.0,23.9,30.4,34.7,19.0,29.0,24.3,21.9,21.0,33.8,19.2,22.0,32.4,21.8,36.5,20.5,20.6,26.1,23.7,25.1,22.1,34.9,54.9,22.3,27.2,24.4,24.4,26.9,23.3,20.5,37.4,26.1,38.0,26.1,42.7,31.1,31.6,51.5,32.5,21.7,22.0,21.0,30.2,30.5,27.4,23.0,24.0,22.8,21.3,21.8,25.1,24.6,21.8,99.9,23.6,26.8,26.4,25.1,23.4,23.8,26.4,33.5,31.0,99.9,17.8,22.3,24.2,20.7,29.8,23.6,24.0,28.3,56.4,35.2,20.5,30.1,25.2,25.8,24.8,24.4,22.5,29.7,21.5,26.0,26.4,20.8,20.8,19.2,29.2,31.8,36.6,21.6,38.6,25.0,32.1,21.3,24.9,27.9,39.9,24.4,24.0,31.6,22.9,22.2,27.5,23.0,27.3,33.7,33.7,99.9,27.4,29.0,40.7,40.0,25.7,31.8,20.6,25.2,25.7,27.2,19.2,29.0,35.1,22.1,25.9,35.9,24.4,22.9,33.2,30.9,37.6,31.6,34.5,18.2,21.3,34.0,39.0,40.3,37.4,37.4,35.1,18.6,28.2,30.7,26.4,24.2,27.4,30.1,42.7,19.5,38.4,27.4,23.6,21.9,20.0,29.0,38.1,24.0,24.9,27.5,25.8,24.4,99.9,99.9,24.0,99.9,24.8,99.9,25.7,23.8,30.7,26.6,19.8,25.7,24.2,21.3,31.6,33.2,34.0,26.4,21.6,25.0,29.4,26.4,24.0,30.0,35.4,22.7,21.3,24.1,24.1,21.6,26.6,23.9,34.0,36.9,36.6,27.7,36.2,21.4,25.1,28.9,25.5,29.2,22.7,27.5,18.7,43.6,21.6,21.6,36.0,24.3,26.1,31.8,26.3,18.9,26.6,29.0,20.2,32.5,23.4,33.1,23.4,21.8,22.0,22.3,20.7,27.3,27.9,31.5,27.4,35.2,19.6,21.5,26.5,32.6,24.9,22.1,31.7,23.6,21.3,38.3,24.7,16.7,31.8,23.1,28.3,24.7,40.3,16.8,21.5,23.5,27.3,21.6,35.2,37.1,35.7,25.2,35.7,28.5,35.5,19.7,28.2,31.8,21.1,20.9,23.2,39.5,19.2,22.7,22.3,27.4,27.4,17.7,22.7,22.9,26.6,24.9,33.3,28.2,20.8,21.4,28.8,26.2,26.2,19.6,21.6,23.0,24.8,22.1,24.0,26.6,22.1,25.0,26.8,24.0,26.4,27.1,34.7,99.9,42.7,23.5,20.4,37.2,23.9,24.1,30.9,99.9,19.2,30.4,22.8,18.8,48.8,22.3,22.7,43.9,25.7,26.9,25.6,19.4,37.7,29.1,24.2,20.8,39.1,30.7,20.0,23.6,26.6,21.9,21.6,50.0,24.4,18.5,24.4,24.7,21.3,24.1,25.8,22.7,29.6,30.4,29.2,21.5,30.1,25.8,31.9,20.6,24.9,24.9,24.7,25.0,24.8,44.3,26.3,24.0,20.8,99.9,18.8,23.4,20.6,23.0,23.9,23.7,23.2,23.7,30.6,42.2,26.6,33.9,27.4,38.4,23.9,28.2,34.2,23.3,21.0,24.5,20.0,27.6,23.2,35.2,30.2,21.4,23.0,28.3,99.9,23.9,19.8,27.4,24.2,25.4,41.4,22.0,26.1,26.9,23.9,23.0,21.1,24.2,19.4,29.0,21.9,26.3,31.5,18.3,23.5,50.7,33.3,23.6,23.3,29.3],\"y\":[3653,2987,3445,3645,860,2875,3235,3110,2970,3295,3315,3232,3456,3435,3391,3317,4270,2290,3890,2715,3500,3137,3390,3190,3091,2360,2445,3325,4026,3969,3254,3565,3215,3160,3030,3465,2615,3150,4455,3325,2340,3605,4110,3935,3355,3114,3480,2863,3799,4905,3771,5360,3147,4167,2810,2415,3485,3340,3714,3620,3175,3535,3245,4325,3210,3165,3010,4268,4130,3690,3610,3945,3120,3884,4196,3325,311,3190,3490,3140,3050,4310,1134,3880,3285,3485,3455,4082,3350,4070,3100,3675,3575,4050,2855,3090,2885,4205,3058,3635,4315,3950,3180,3465,3460,3220,3950,4210,4430,4130,3520,3080,3120,4000,3805,3209,3310,4026,3033,3242,2385,3715,3815,2450,3070,2670,3495,3350,3105,3095,3198,3575,2835,3670,3845,3385,3350,2655,3415,1900,3690,3634,3410,4010,3095,3289,3950,3810,3425,3490,3080,3130,3960,3540,4550,3955,3395,2635,1140,2300,2680,3912,3799,3345,3572,3487,3686,3487,3110,3407,3342,3626,3461,3205,4254,4180,3460,3430,3870,3827,3119,3400,2500,2778,2523,3590,3305,3055,3005,3095,3805,2240,2070,3443,4621,3200,2480,2970,3210,2957,3118,2870,2790,3105,3625,4550,4160,3570,3555,3565,4180,3740,3225,4001,3490,3657,2830,3480,3045,3475,2985,4240,3620,3771,2608,3215,2780,2970,2948,2381,3657,4490,4465,3620,4010,3380,3180,2950,3317,3150,3650,3620,3400,3099,3856,3410,1750,1865,2930,4252,3380,3455,3969,3560,3510,2900,3970,3810,3490,4280,3190,2820,3012,3495,2880,2475,2740,3742,3459,4150,3714,3884,3119,3487,3650,3840,4190,2900,3660,3380,3340,2820,2710,3402,4536,1770,1815,1871,3500,3740,3385,3520,2715,3760,3960,4140,2830,3510,620,3790,3220,3200,2590,3302,2730,2208,4215,3310,3235,4224,3960,3402,4163,2385,2848,3515,3745,3520,3535,3510,3320,3840,3460,3970,3400,2880,3780,3340,4390,3220,3240,3830,3380,3800,3590,2820,3670,2180,4145,2970,2570,3030,3810,2715,3925,3754,3655,3266,4095,3035,3310,4012,3697,3240,3700,4180,4480,3629,2755,4220,4310,3720,3714,3780,3600,3210,3810,3770,3960,3600,3572,4139,3147,3941,1380,3665,3135,3335,3570,3990,1956,2098,2445,3839,3657,2240,3950,4508,4167,2980,3410,4026,3510,3240,4080,2815,3240,3900,3010,3500,3535,3290,2730,3170,3775,4390,3050,3595,3265,4055,3645,3325,3860,2930,3255,3155,3150,1425,3050,3165,3685,3310,3330,3827,3400,3895,2930,2630,3910,3830,3390,3570,3740,4570,3300,3232,3550,3290,3629,3100,2280,3055,3660,3430,3055,3714,3289,2948,3033,2520,3956,4390,3125,3790,3220,3150,3280,2380,3353,3265,3409,3175,4090,3111,3700,3600,3657,3865,3645,1965,3975,3855,3425,2895,3165,2955,3280,4070,2915,4220,3725,3710,4224,3033,3487,9999,3195,2855,3725,3742,3119,3317,4593,3204,3798,2920,3402,3487,3475,4026,2948,2928,3065,3925,3090,3650,3890,4030,3680,3260,3990,3915,3115,4510,3540,2491,3105,4775,3480,3990,2910,3710,3940,3200,3595,4130,3005,3585,4309,4005,3515,4479,4054,2013,1956,3119,2580,3147,3915,3645,3300,3500,1110,3320,3405,2980,3870,4110,2460,4309,3402,2707,2960,2707,3380,3740,3510,3289,3430,3515,3544,3400,2955,3410,4285,2790,420,3374,3374,3657,4349,3580,3420,3560,2990,3330,4310,3580,4380,3997,3660,3030,4082,4394,3540,3040,2840,3970,2550,3440,3060,3970,2840,4290,3210,3065,2995,3330,2710,3325,2270,2540,2920,3555,3204,3485,3860,1786,3657,3714,3657,2610,2195,1995,1970,3850,3790,2925,3402,1920,3610,3570,3845,3360,3220,4090,3865,3480,3390,4232,2955,3245,3572,2615,3690,3318,3700,3365,3900,3969,3260,3430,3629,1240,3310,4170,3660,2240,3515,2716,3204,3714,2730,3085,4026,2863,3205,3894,3265,2497,3635,3428,3460,3662,3580,3891,4410,3250,3220,3485,3664,3562,3004,3388,4010,2980,4090,4130,3540,3180,3885,3290,3759,3560,2465,3830,2995,2340,3031,2945,3805,3015,3374,3175,3315,2570,3033,3815,3330,4060,4250,2260,3330,3390,2670,2890,4300,3487,4730,3280,3119,3090,3720,3231,4310,3544,3575,3210,1748,3629,3215,4000,2900,4080,3487,3572,3490,2740,2690,3345,3289,3374,4394,3265,3385,2934,2560,3374,3250,3629,3330,2710,3585,4270,2890,4111,3232,3420,3125,3912,3315,3150,3612,3629,3235,3275,3505,3315,2241,3880,2592,3549,4798,3305,3057,4450,3780,3040,3680,3160,2650,2930,2450,2915,3675,3010,2700,4270,2825,3775,3245,4375,3710,540,3495,2720,4105,3000,3270,3530,3400,3920,3560,3500,3002,3147,3750,3335,3075,4350,3402,2921,3345,3205,3284,3100,4300,2628,3289,3055,3123,2905,2178,3360,3254,4054,2977,3593,2747,3969,2795,3686,3487,2490,3156,4121,4166,4153,2240,4360,3714,4224,3544,3200,3380,3146,3941,3629,3210,2750,3035,3013,3493,2829,3034,3681,3728,2810,2885,3075,3610,4140,3290,4320,3275,3295,286,4111,3572,2990,2050,3775,2705,2829,3505,3395,3655,3240,2775,3186,4405,2697,3544,3030,3480,3040,3330,3584,3515,4030,3781,2520,3710,3040,2940,3415,3750,3410,3350,2148,2985,3665,2910,3317,3910,4309,2950,2920,4000,2340,1930,3070,3476,3822,3118,3555,3570,3136,3725,2968,2970,3855,4040,2782,3501,3835,4121,3935,3389,3183,3540,3725,3367,4775,3110,3404,3714,3147,2552,3884,4338,3459,3459,3799,3884,3520,3799,4173,3160,3040,3430,2880,4250,2870,3880,3450,1530,3165,3450,2875,4725,2805,3130,2720,2655,3175,3365,3430,3340,3470,2637,2180,2760,3535,3250,3510,3875,3510,4570,3755,2345,2290,4150,3289,3515,4167,3827,2892,4215,3487,2693,2880,3735,3045,2645,4175,3140,3855,3780,2860,3780,3965,2438,3555,4075,3285,3840,3120,3713,3540,3840,3300,4320,4100,4770,3330,3685,3760,4536,3190,2720,3840,3997,3865,3150,3179,3936,3880,3380,3135,3030,3768,3225,3345,3935,3170,3231,2765,4008,3657,2824,3147,4082,4255,2779,3445,3240,2450,4565,3935,3805,3854,3692,3525,3659,3030,3437,3100,4536,3742,3856,2863,1110,3119,3825,3390,3965,2725,3800,3500,3520,2370,3580,2790,3782,3660,3480,3630,3574,2999,3190,3629,2980,3802,3459,3033,3305,4165,3975,3855,3440,2815,2495,3685,4366,1696,1636,3350,3135,2731,1978,3715,3590,2710,3110,4080,2830,3660,3930,3680,3250,3062,3175,3510,3110,4203,3048,3345,3742,3912,3410,3400,3260,2915,4320,2665,4310,2135,3648,3415,3185,3994,3660,3590,3760,4055,2685,3350,3255,3730,3855,3912,2870,4139,3530,3785,2750,4020,3515,3510,3629,2920,3490,2948,3544,3730,2790,3770,3490,2705,3365,4080,3657,4285,4390,2230,4070,3370,4020,3570,3060,4630,2580,3255,3600,4015,3280,2965,4110,3035,2830,3960,4055,3024,4185,3439,3175,3730,3385,3947,2725,3210,3116,2675,3340,3430,3455,2960,3450,3630,3200,3230,1992,4416,3210,3440,3625,2895,3345,3310,3969,4054,3487,3856,2892,3120,4451,3797,3170,3725,2930,3912,3100,4082,3572,2992,2420,4010,4593,3062,3062,320,310,3714,3289,3487,2552,3941,3289,3714,3005,3565,3200,2765,3460,3090,3415,3620,2518,2945,3558,2623,3635,3802,3354,2225,3869,3310,4538,2750,3684,3501,2960,3477,4391,3137,4725,3460,3765,3855,3657,3045,3260,3350,4111,3015,4030,3147,3005,2675,4605,1700,2830,4230,2995,3550,3120,3975,2600,4020,3820,3610,4070,4678,3572,4111,3790,2720,3400,4053,2908,3910,3520,3440,2929,3160,3674,3130,3317,3990,3575,2948,2835,4142,4130,3675,3760,3394,4340,2780,3240,3570,3630,3665,4075,3451,3340,3895,3905,4160,3785,3700,2745,3235,3465,3625,3120,3799,3090,3100,3715,3204,1400,2710,3085,3265,3190,3629,3440,3080,3070,3189,3629,1500,3950,3657,3884,3345,3175,3629,3912,2778,3997,3827,2835,4260,2360,3445,3650,2330,1720,1520,3245,3155,3050,2930,3315,3460,3170,3700,3900,3415,3670,3350,3040,3515,3785,3545,3210,3090,3085,3289,3799,3395,3710,3954,3147,3062,3916,3203,4114,3750,3375,3605,3657,1270,3372,4054,3668,3515,3434,3515,3157,3969,2823,3402,4175,3835,4695,3815,3450,2040,3755,3600,3629,4593,3289,1899,4508,3969,3402,3289,3232,3240,3290,3805,3350,3225,4270,4240,3585,2780,3510,2660,3530,3686,4240,2120,3450,3260,3690,3997,3487,4025,2760,3960,3820,3795,3750,3561,3930,3170,3760,2875,3510,4570,4285,3300,3157,2620,4160,3911,3406,3070,3220,1370,2130,3900,3655,3459,3686,2727,3549,3609,3395,4516,3289,4394,3067,3310,3585,4082,3415,3515,3799,3430,2722,2466,3655,3820,3545,4082,3690,3625,2920,3662,2800,2755,2640,3795,3414,4400,3340,4045,4000,3500,3650,3430,360,2270,3430,3402,3205,3742,3147,3484,4139,3913,3090,2722,3799,3360,2655,4210,3795,2195,3575,3555,2020,3065,3975,3110,4556,3020,3244,3208,2505,3560,3730,3289,3440,2745,3611,3315,3310,3170,3760,3150,4055,2500,2180,2920,3050,3290,3320,3410,2365,3204,1899,4196,2381,3345,3544,3629,3165,4375,4490,2630,3325,2940,3005,3433,3856,3487,4763,3690,3175,3856,3572,2314,3212,3884,3061,3687,3590,3780,2466,3860,3640,2700,4020,3085,2835,3402,3175,910,3884,2785,3941,3374,3204,3685,3140,3655,1450,2760,3910,3030,3510,3799,4423,3175,3565,3600,3325,4120,3420,4140,4375,3405,3575,3255,4073,3210,3220,4372,4170,4075,3125,3560,4020,3565,3550,3365,3210,3620,3657,4095,4180,4325,2385,2930,3820,3850,3280,4180,3289,3720,3375,2126,580,2910,2810,2590,3930,4990,3650,3570,3255,3600,3005,2892,2920,3090,3204,3997,2722,4564,3204,4196,3415,3865,3616,3472,3430,3081,2961,3620,3040,3720,3670,3787,3600,3579,3506,3402,3584,3733,3085,3070,3912,3605,3289,4442,3629,3135,2795,3175,3655,2815,4565,3570,3005,3156,4065,3885,2145,3714,3345,3682,3230,3330,3755,1730,3400,3105,3160,3970,2950,3265,3885,4129,3234,3415,2718,3560,3062,3969,2892,3317,3590,2991,3490,3790,4521,3252,2882,3402,3430,2977,3430,3459,3119,4366,3487,2665,3260,3317,2977,3204,3062,3385,3425,3460,3210,2780,3020,3969,3175,2710,3920,4020,4080,3250,2880,3300,4240,3720,3680,3320,2510,2880,3890,2600,2600,3160,4320,2900,2570,4485,3070,3870,2925,3890,2930,2260,2050,3720,2645,3395,3890,2770,1876,3240,1873,3390,2770,2930,2890,3050,3970,2910,2250,2825,3350,4160,3640,2665,3220,4310,2740,3370,2252,3570,4090,3300,2977,3140,2620,3270,3530,3765,2975,3200,3295,3475,3445,4030,2730,3690,2705,3580,3390,2948,3400,2665,3940,3560,3060,3742,3714,4082,3260,3095,3090,3445,3730,3289,3629,3080,4391,3035,4745,3430,2920,3147,3317,4150,3714,3884,3390,4455,3600,2825,4005,4155,4410,1810,2985,3285,3251,3939,3820,4139,4205,2510,4155,1605,2205,3941,2020,2133,2450,3284,4085,3845,2795,4007,3725,3502,3590,2899,3600,2525,3590,3555,3330,3385,4046,3200,3030,3920,3631,3332,2948,3485,3920,3940,3750,3481,2875,3819,2863,3421,3430,3555,3670,3310,3565,1760,3545,3005,3345,3185,2977,3785,3025,4225,3657,2434,3345,1892,3805,3260,3420,3960,4082,2897,4145,2438,3360,2840,4120,4510,4170,3280,2778,3350,2430,2560,3270,4060,2540,1100,4281,3600,2470,3300,3958,3555,4075,3605,3280,4070,3535,2425,2655,1503,3220,3145,3170,3575,3210,2455,2150,3580,2845,3982,3722,3490,3398,4070,3635,3699,3410,3331,3650,3220,3497,2835,3940,3610,3355,3230,3515,3465,3005,3835,3825,3380,3025,3315,3905,2920,2892,2010,3310,3010,3645,2695,3125,2720,3345,3160,3745,3315,3020,3487,4196,3969,3402,4590,3033,1090,1390,4195,3489,5261,3780,3610,3759,3690,3395,3915,2595,3520,3160,3515,4000,2620,3075,3690,3405,2216,2520,3263,3688,2885,3740,3215,3020,2975,4280,3610,3232,3460,4070,3470,4338,3670,3200,3544,3620,3150,3742,3714,3750,3890,3544,3657,3629,3289,3771,2975,3525,2340,3895,3045,3629,3210,3856,3686,3402,2710,3607,3021,3042,3520,3790,3010,2785,4095,3320,2810,3310,3660,2710,3100,3040,3350,3400,3280,3090,3880,3650,4070,3480,3880,3840,3380,4745,3380,3310,3010,2490,2778,3365,3260,4300,2510,3742,2600,1360,3250,4330,3910,2920,3870,3515,3969,3515,3912,3714,4281,3884,3657,2353,2438,3827,2948,3289,3317,2778,3320,4338,3465,3175,3895,3660,2890,3799,2440,2835,3145,3270,3300,4054,3620,4050,2970,4050,4370,3230,4016,3560,3489,3746,3232,3546,3447,3572,3515,2789,3175,3040,3165,3105,4723,3523,2981,4658,3419,4035,3290,3540,4625,3459,4082,2775,3710,3335,3045,3445,3515,3345,3714,3629,3572,3200,3035,4479,3245,3440,2660,3271,3490,3072,3630,3043,2620,3910,1740,2380,1531,3490,3050,3345,3941,2185,4479,2915,3317,4060,3742,2290,3204,2355,2660,3615,3090,3515,3544,3200,2325,3629,3544,4050,3232,3310,3544,308,3175,2735,2760,4275,3090,3755,3250,3700,3840,3103,3136,4139,3980,3657,3358,4281,3742,4309,4025,3210,2850,3575,3890,3795,3810,2615,3735,2155,1270,2807,2995,3200,3290,3600,3485,3490,2722,2778,3830,3540,3022,3615,3830,4202,2990,2850,1091,2865,3280,3941,4340,2710,3220,2950,1980,3800,3941,3856,3887,2631,2630,3030,3850,3825,3660,2900,3621,2760,3530,3856,3192,3441,3710,3657,4110,3330,3580,3345,3840,3200,3780,3880,4810,2650,3990,3690,3750,3000,3140,3160,3289,3969,3374,2381,3941,3629,3000,3770,4550,3512,3941,4325,4010,2977,3445,3860,3771,3392,3520,3742,3706,3742,2400,2381,5006,3425,4140,3205,3355,3005,4090,2845,3760,3465,3680,3300,3050,3640,3805,4060,1900,1550,4280,3700,3575,3955,3055,2510,3915,3200,3800,3450,3085,3225,3785,3980,3620,3050,2660,3660,3410,4245,3544,3515,3750,3735,3290,3265,3341,4205,3955,3700,4095,3685,3030,3942,4200,3650,3450,3360,2396,3310,2680,2160,3691,3470,3480,2975,4000,1375,2930,2020,3180,3210,3395,3328,3160,3180,4505,3310,3305,4260,3065,3260,2355,4025,3045,3495,3355,3495,3530,3175,3317,2438,3402,3742,3063,2900,3711,3158,3300,3780,4200,3120,3665,2830,3690,3440,3799,3480,3200,3990,3240,2690,3580,3459,3430,2160,3050,3450,2450,3420,3062,3005,3831,3338,3045,3560,3305,4505,2551,3835,3570,3550,3295,3570,4030,3080,3748,3954,3340,3150,3040,3600,3960,3552,4190,3290,3360]},\"selected\":{\"id\":\"1786\",\"type\":\"Selection\"},\"selection_policy\":{\"id\":\"1787\",\"type\":\"UnionRenderers\"}},\"id\":\"1727\",\"type\":\"ColumnDataSource\"},{\"attributes\":{\"callback\":null},\"id\":\"1698\",\"type\":\"DataRange1d\"},{\"attributes\":{},\"id\":\"1784\",\"type\":\"BasicTickFormatter\"},{\"attributes\":{\"fill_alpha\":{\"value\":0.1},\"fill_color\":{\"value\":\"#1f77b4\"},\"line_alpha\":{\"value\":0.1},\"line_color\":{\"value\":\"#1f77b4\"},\"size\":{\"units\":\"screen\",\"value\":10},\"x\":{\"field\":\"x\"},\"y\":{\"field\":\"y\"}},\"id\":\"1729\",\"type\":\"Circle\"},{\"attributes\":{},\"id\":\"1715\",\"type\":\"WheelZoomTool\"},{\"attributes\":{\"overlay\":{\"id\":\"1785\",\"type\":\"BoxAnnotation\"}},\"id\":\"1716\",\"type\":\"BoxZoomTool\"},{\"attributes\":{},\"id\":\"1718\",\"type\":\"ResetTool\"},{\"attributes\":{\"bottom_units\":\"screen\",\"fill_alpha\":{\"value\":0.5},\"fill_color\":{\"value\":\"lightgrey\"},\"left_units\":\"screen\",\"level\":\"overlay\",\"line_alpha\":{\"value\":1.0},\"line_color\":{\"value\":\"black\"},\"line_dash\":[4,4],\"line_width\":{\"value\":2},\"render_mode\":\"css\",\"right_units\":\"screen\",\"top_units\":\"screen\"},\"id\":\"1785\",\"type\":\"BoxAnnotation\"},{\"attributes\":{},\"id\":\"1717\",\"type\":\"SaveTool\"},{\"attributes\":{\"axis_label\":\"BMI\",\"formatter\":{\"id\":\"1784\",\"type\":\"BasicTickFormatter\"},\"ticker\":{\"id\":\"1705\",\"type\":\"BasicTicker\"}},\"id\":\"1704\",\"type\":\"LinearAxis\"},{\"attributes\":{\"ticker\":{\"id\":\"1705\",\"type\":\"BasicTicker\"}},\"id\":\"1708\",\"type\":\"Grid\"},{\"attributes\":{},\"id\":\"1714\",\"type\":\"PanTool\"},{\"attributes\":{},\"id\":\"1702\",\"type\":\"LinearScale\"},{\"attributes\":{\"source\":{\"id\":\"1727\",\"type\":\"ColumnDataSource\"}},\"id\":\"1731\",\"type\":\"CDSView\"},{\"attributes\":{\"text\":\"Relationship between mother BMI and birthweight\"},\"id\":\"1694\",\"type\":\"Title\"},{\"attributes\":{},\"id\":\"1719\",\"type\":\"HelpTool\"},{\"attributes\":{},\"id\":\"1705\",\"type\":\"BasicTicker\"},{\"attributes\":{},\"id\":\"1700\",\"type\":\"LinearScale\"},{\"attributes\":{\"data_source\":{\"id\":\"1727\",\"type\":\"ColumnDataSource\"},\"glyph\":{\"id\":\"1728\",\"type\":\"Circle\"},\"hover_glyph\":null,\"muted_glyph\":null,\"nonselection_glyph\":{\"id\":\"1729\",\"type\":\"Circle\"},\"selection_glyph\":null,\"view\":{\"id\":\"1731\",\"type\":\"CDSView\"}},\"id\":\"1730\",\"type\":\"GlyphRenderer\"},{\"attributes\":{\"callback\":null},\"id\":\"1696\",\"type\":\"DataRange1d\"},{\"attributes\":{},\"id\":\"1710\",\"type\":\"BasicTicker\"},{\"attributes\":{},\"id\":\"1782\",\"type\":\"BasicTickFormatter\"},{\"attributes\":{},\"id\":\"1786\",\"type\":\"Selection\"},{\"attributes\":{\"fill_alpha\":{\"value\":0.2},\"fill_color\":{\"value\":\"#1f77b4\"},\"line_color\":{\"value\":\"#1f77b4\"},\"size\":{\"units\":\"screen\",\"value\":10},\"x\":{\"field\":\"x\"},\"y\":{\"field\":\"y\"}},\"id\":\"1728\",\"type\":\"Circle\"},{\"attributes\":{\"dimension\":1,\"ticker\":{\"id\":\"1710\",\"type\":\"BasicTicker\"}},\"id\":\"1713\",\"type\":\"Grid\"},{\"attributes\":{},\"id\":\"1787\",\"type\":\"UnionRenderers\"},{\"attributes\":{\"active_drag\":\"auto\",\"active_inspect\":\"auto\",\"active_multi\":null,\"active_scroll\":\"auto\",\"active_tap\":\"auto\",\"tools\":[{\"id\":\"1714\",\"type\":\"PanTool\"},{\"id\":\"1715\",\"type\":\"WheelZoomTool\"},{\"id\":\"1716\",\"type\":\"BoxZoomTool\"},{\"id\":\"1717\",\"type\":\"SaveTool\"},{\"id\":\"1718\",\"type\":\"ResetTool\"},{\"id\":\"1719\",\"type\":\"HelpTool\"}]},\"id\":\"1720\",\"type\":\"Toolbar\"}],\"root_ids\":[\"1693\"]},\"title\":\"Bokeh Application\",\"version\":\"1.3.4\"}};\n",
       "  var render_items = [{\"docid\":\"1ba77ce4-66ff-45ee-994d-f9f4c0fdbb19\",\"roots\":{\"1693\":\"a1b22fbb-5c17-4b5a-85ed-71944494bc09\"}}];\n",
       "  root.Bokeh.embed.embed_items_notebook(docs_json, render_items);\n",
       "\n",
       "  }\n",
       "  if (root.Bokeh !== undefined) {\n",
       "    embed_document(root);\n",
       "  } else {\n",
       "    var attempts = 0;\n",
       "    var timer = setInterval(function(root) {\n",
       "      if (root.Bokeh !== undefined) {\n",
       "        embed_document(root);\n",
       "        clearInterval(timer);\n",
       "      }\n",
       "      attempts++;\n",
       "      if (attempts > 100) {\n",
       "        console.log(\"Bokeh: ERROR: Unable to run BokehJS code because BokehJS library is missing\");\n",
       "        clearInterval(timer);\n",
       "      }\n",
       "    }, 10, root)\n",
       "  }\n",
       "})(window);"
      ],
      "application/vnd.bokehjs_exec.v0+json": ""
     },
     "metadata": {
      "application/vnd.bokehjs_exec.v0+json": {
       "id": "1693"
      }
     },
     "output_type": "display_data"
    }
   ],
   "source": [
    "%%local\n",
    "from bokeh.io import show\n",
    "from bokeh.plotting import figure\n",
    "from bokeh.io import output_notebook\n",
    "output_notebook()\n",
    "p = figure(title = 'Relationship between mother BMI and birthweight')\n",
    "p.xaxis.axis_label = 'BMI'\n",
    "p.yaxis.axis_label = 'BirthWeight (in grams)'\n",
    "\n",
    "p.circle(  list(scatter['bmi'])\n",
    "         , list(scatter['dbwt'])\n",
    "         , fill_alpha=0.2, size=10)\n",
    "\n",
    "show(p)"
   ]
  },
  {
   "cell_type": "code",
   "execution_count": 109,
   "metadata": {},
   "outputs": [
    {
     "data": {
      "application/vnd.jupyter.widget-view+json": {
       "model_id": "",
       "version_major": 2,
       "version_minor": 0
      },
      "text/plain": [
       "FloatProgress(value=0.0, bar_style='info', description='Progress:', layout=Layout(height='25px', width='50%'),…"
      ]
     },
     "metadata": {},
     "output_type": "display_data"
    },
    {
     "data": {
      "application/vnd.jupyter.widget-view+json": {
       "model_id": "",
       "version_major": 2,
       "version_minor": 0
      },
      "text/plain": [
       "FloatProgress(value=0.0, bar_style='info', description='Progress:', layout=Layout(height='25px', width='50%'),…"
      ]
     },
     "metadata": {},
     "output_type": "display_data"
    }
   ],
   "source": [
    "%%spark -o scatter\n",
    "#spark magic moves dataframe to local\n",
    "scatter = (\n",
    "    birth.filter(condition_null)\n",
    "    .select('cig_1', 'mager')\n",
    ")"
   ]
  },
  {
   "cell_type": "code",
   "execution_count": 110,
   "metadata": {},
   "outputs": [
    {
     "data": {
      "text/html": [
       "\n",
       "    <div class=\"bk-root\">\n",
       "        <a href=\"https://bokeh.pydata.org\" target=\"_blank\" class=\"bk-logo bk-logo-small bk-logo-notebook\"></a>\n",
       "        <span id=\"1802\">Loading BokehJS ...</span>\n",
       "    </div>"
      ]
     },
     "metadata": {},
     "output_type": "display_data"
    },
    {
     "data": {
      "application/javascript": [
       "\n",
       "(function(root) {\n",
       "  function now() {\n",
       "    return new Date();\n",
       "  }\n",
       "\n",
       "  var force = true;\n",
       "\n",
       "  if (typeof root._bokeh_onload_callbacks === \"undefined\" || force === true) {\n",
       "    root._bokeh_onload_callbacks = [];\n",
       "    root._bokeh_is_loading = undefined;\n",
       "  }\n",
       "\n",
       "  var JS_MIME_TYPE = 'application/javascript';\n",
       "  var HTML_MIME_TYPE = 'text/html';\n",
       "  var EXEC_MIME_TYPE = 'application/vnd.bokehjs_exec.v0+json';\n",
       "  var CLASS_NAME = 'output_bokeh rendered_html';\n",
       "\n",
       "  /**\n",
       "   * Render data to the DOM node\n",
       "   */\n",
       "  function render(props, node) {\n",
       "    var script = document.createElement(\"script\");\n",
       "    node.appendChild(script);\n",
       "  }\n",
       "\n",
       "  /**\n",
       "   * Handle when an output is cleared or removed\n",
       "   */\n",
       "  function handleClearOutput(event, handle) {\n",
       "    var cell = handle.cell;\n",
       "\n",
       "    var id = cell.output_area._bokeh_element_id;\n",
       "    var server_id = cell.output_area._bokeh_server_id;\n",
       "    // Clean up Bokeh references\n",
       "    if (id != null && id in Bokeh.index) {\n",
       "      Bokeh.index[id].model.document.clear();\n",
       "      delete Bokeh.index[id];\n",
       "    }\n",
       "\n",
       "    if (server_id !== undefined) {\n",
       "      // Clean up Bokeh references\n",
       "      var cmd = \"from bokeh.io.state import curstate; print(curstate().uuid_to_server['\" + server_id + \"'].get_sessions()[0].document.roots[0]._id)\";\n",
       "      cell.notebook.kernel.execute(cmd, {\n",
       "        iopub: {\n",
       "          output: function(msg) {\n",
       "            var id = msg.content.text.trim();\n",
       "            if (id in Bokeh.index) {\n",
       "              Bokeh.index[id].model.document.clear();\n",
       "              delete Bokeh.index[id];\n",
       "            }\n",
       "          }\n",
       "        }\n",
       "      });\n",
       "      // Destroy server and session\n",
       "      var cmd = \"import bokeh.io.notebook as ion; ion.destroy_server('\" + server_id + \"')\";\n",
       "      cell.notebook.kernel.execute(cmd);\n",
       "    }\n",
       "  }\n",
       "\n",
       "  /**\n",
       "   * Handle when a new output is added\n",
       "   */\n",
       "  function handleAddOutput(event, handle) {\n",
       "    var output_area = handle.output_area;\n",
       "    var output = handle.output;\n",
       "\n",
       "    // limit handleAddOutput to display_data with EXEC_MIME_TYPE content only\n",
       "    if ((output.output_type != \"display_data\") || (!output.data.hasOwnProperty(EXEC_MIME_TYPE))) {\n",
       "      return\n",
       "    }\n",
       "\n",
       "    var toinsert = output_area.element.find(\".\" + CLASS_NAME.split(' ')[0]);\n",
       "\n",
       "    if (output.metadata[EXEC_MIME_TYPE][\"id\"] !== undefined) {\n",
       "      toinsert[toinsert.length - 1].firstChild.textContent = output.data[JS_MIME_TYPE];\n",
       "      // store reference to embed id on output_area\n",
       "      output_area._bokeh_element_id = output.metadata[EXEC_MIME_TYPE][\"id\"];\n",
       "    }\n",
       "    if (output.metadata[EXEC_MIME_TYPE][\"server_id\"] !== undefined) {\n",
       "      var bk_div = document.createElement(\"div\");\n",
       "      bk_div.innerHTML = output.data[HTML_MIME_TYPE];\n",
       "      var script_attrs = bk_div.children[0].attributes;\n",
       "      for (var i = 0; i < script_attrs.length; i++) {\n",
       "        toinsert[toinsert.length - 1].firstChild.setAttribute(script_attrs[i].name, script_attrs[i].value);\n",
       "      }\n",
       "      // store reference to server id on output_area\n",
       "      output_area._bokeh_server_id = output.metadata[EXEC_MIME_TYPE][\"server_id\"];\n",
       "    }\n",
       "  }\n",
       "\n",
       "  function register_renderer(events, OutputArea) {\n",
       "\n",
       "    function append_mime(data, metadata, element) {\n",
       "      // create a DOM node to render to\n",
       "      var toinsert = this.create_output_subarea(\n",
       "        metadata,\n",
       "        CLASS_NAME,\n",
       "        EXEC_MIME_TYPE\n",
       "      );\n",
       "      this.keyboard_manager.register_events(toinsert);\n",
       "      // Render to node\n",
       "      var props = {data: data, metadata: metadata[EXEC_MIME_TYPE]};\n",
       "      render(props, toinsert[toinsert.length - 1]);\n",
       "      element.append(toinsert);\n",
       "      return toinsert\n",
       "    }\n",
       "\n",
       "    /* Handle when an output is cleared or removed */\n",
       "    events.on('clear_output.CodeCell', handleClearOutput);\n",
       "    events.on('delete.Cell', handleClearOutput);\n",
       "\n",
       "    /* Handle when a new output is added */\n",
       "    events.on('output_added.OutputArea', handleAddOutput);\n",
       "\n",
       "    /**\n",
       "     * Register the mime type and append_mime function with output_area\n",
       "     */\n",
       "    OutputArea.prototype.register_mime_type(EXEC_MIME_TYPE, append_mime, {\n",
       "      /* Is output safe? */\n",
       "      safe: true,\n",
       "      /* Index of renderer in `output_area.display_order` */\n",
       "      index: 0\n",
       "    });\n",
       "  }\n",
       "\n",
       "  // register the mime type if in Jupyter Notebook environment and previously unregistered\n",
       "  if (root.Jupyter !== undefined) {\n",
       "    var events = require('base/js/events');\n",
       "    var OutputArea = require('notebook/js/outputarea').OutputArea;\n",
       "\n",
       "    if (OutputArea.prototype.mime_types().indexOf(EXEC_MIME_TYPE) == -1) {\n",
       "      register_renderer(events, OutputArea);\n",
       "    }\n",
       "  }\n",
       "\n",
       "  \n",
       "  if (typeof (root._bokeh_timeout) === \"undefined\" || force === true) {\n",
       "    root._bokeh_timeout = Date.now() + 5000;\n",
       "    root._bokeh_failed_load = false;\n",
       "  }\n",
       "\n",
       "  var NB_LOAD_WARNING = {'data': {'text/html':\n",
       "     \"<div style='background-color: #fdd'>\\n\"+\n",
       "     \"<p>\\n\"+\n",
       "     \"BokehJS does not appear to have successfully loaded. If loading BokehJS from CDN, this \\n\"+\n",
       "     \"may be due to a slow or bad network connection. Possible fixes:\\n\"+\n",
       "     \"</p>\\n\"+\n",
       "     \"<ul>\\n\"+\n",
       "     \"<li>re-rerun `output_notebook()` to attempt to load from CDN again, or</li>\\n\"+\n",
       "     \"<li>use INLINE resources instead, as so:</li>\\n\"+\n",
       "     \"</ul>\\n\"+\n",
       "     \"<code>\\n\"+\n",
       "     \"from bokeh.resources import INLINE\\n\"+\n",
       "     \"output_notebook(resources=INLINE)\\n\"+\n",
       "     \"</code>\\n\"+\n",
       "     \"</div>\"}};\n",
       "\n",
       "  function display_loaded() {\n",
       "    var el = document.getElementById(\"1802\");\n",
       "    if (el != null) {\n",
       "      el.textContent = \"BokehJS is loading...\";\n",
       "    }\n",
       "    if (root.Bokeh !== undefined) {\n",
       "      if (el != null) {\n",
       "        el.textContent = \"BokehJS \" + root.Bokeh.version + \" successfully loaded.\";\n",
       "      }\n",
       "    } else if (Date.now() < root._bokeh_timeout) {\n",
       "      setTimeout(display_loaded, 100)\n",
       "    }\n",
       "  }\n",
       "\n",
       "\n",
       "  function run_callbacks() {\n",
       "    try {\n",
       "      root._bokeh_onload_callbacks.forEach(function(callback) {\n",
       "        if (callback != null)\n",
       "          callback();\n",
       "      });\n",
       "    } finally {\n",
       "      delete root._bokeh_onload_callbacks\n",
       "    }\n",
       "    console.debug(\"Bokeh: all callbacks have finished\");\n",
       "  }\n",
       "\n",
       "  function load_libs(css_urls, js_urls, callback) {\n",
       "    if (css_urls == null) css_urls = [];\n",
       "    if (js_urls == null) js_urls = [];\n",
       "\n",
       "    root._bokeh_onload_callbacks.push(callback);\n",
       "    if (root._bokeh_is_loading > 0) {\n",
       "      console.debug(\"Bokeh: BokehJS is being loaded, scheduling callback at\", now());\n",
       "      return null;\n",
       "    }\n",
       "    if (js_urls == null || js_urls.length === 0) {\n",
       "      run_callbacks();\n",
       "      return null;\n",
       "    }\n",
       "    console.debug(\"Bokeh: BokehJS not loaded, scheduling load and callback at\", now());\n",
       "    root._bokeh_is_loading = css_urls.length + js_urls.length;\n",
       "\n",
       "    function on_load() {\n",
       "      root._bokeh_is_loading--;\n",
       "      if (root._bokeh_is_loading === 0) {\n",
       "        console.debug(\"Bokeh: all BokehJS libraries/stylesheets loaded\");\n",
       "        run_callbacks()\n",
       "      }\n",
       "    }\n",
       "\n",
       "    function on_error() {\n",
       "      console.error(\"failed to load \" + url);\n",
       "    }\n",
       "\n",
       "    for (var i = 0; i < css_urls.length; i++) {\n",
       "      var url = css_urls[i];\n",
       "      const element = document.createElement(\"link\");\n",
       "      element.onload = on_load;\n",
       "      element.onerror = on_error;\n",
       "      element.rel = \"stylesheet\";\n",
       "      element.type = \"text/css\";\n",
       "      element.href = url;\n",
       "      console.debug(\"Bokeh: injecting link tag for BokehJS stylesheet: \", url);\n",
       "      document.body.appendChild(element);\n",
       "    }\n",
       "\n",
       "    for (var i = 0; i < js_urls.length; i++) {\n",
       "      var url = js_urls[i];\n",
       "      var element = document.createElement('script');\n",
       "      element.onload = on_load;\n",
       "      element.onerror = on_error;\n",
       "      element.async = false;\n",
       "      element.src = url;\n",
       "      console.debug(\"Bokeh: injecting script tag for BokehJS library: \", url);\n",
       "      document.head.appendChild(element);\n",
       "    }\n",
       "  };var element = document.getElementById(\"1802\");\n",
       "  if (element == null) {\n",
       "    console.error(\"Bokeh: ERROR: autoload.js configured with elementid '1802' but no matching script tag was found. \")\n",
       "    return false;\n",
       "  }\n",
       "\n",
       "  function inject_raw_css(css) {\n",
       "    const element = document.createElement(\"style\");\n",
       "    element.appendChild(document.createTextNode(css));\n",
       "    document.body.appendChild(element);\n",
       "  }\n",
       "\n",
       "  var js_urls = [\"https://cdn.pydata.org/bokeh/release/bokeh-1.3.4.min.js\", \"https://cdn.pydata.org/bokeh/release/bokeh-widgets-1.3.4.min.js\", \"https://cdn.pydata.org/bokeh/release/bokeh-tables-1.3.4.min.js\", \"https://cdn.pydata.org/bokeh/release/bokeh-gl-1.3.4.min.js\"];\n",
       "  var css_urls = [];\n",
       "\n",
       "  var inline_js = [\n",
       "    function(Bokeh) {\n",
       "      Bokeh.set_log_level(\"info\");\n",
       "    },\n",
       "    \n",
       "    function(Bokeh) {\n",
       "      \n",
       "    },\n",
       "    function(Bokeh) {} // ensure no trailing comma for IE\n",
       "  ];\n",
       "\n",
       "  function run_inline_js() {\n",
       "    \n",
       "    if ((root.Bokeh !== undefined) || (force === true)) {\n",
       "      for (var i = 0; i < inline_js.length; i++) {\n",
       "        inline_js[i].call(root, root.Bokeh);\n",
       "      }if (force === true) {\n",
       "        display_loaded();\n",
       "      }} else if (Date.now() < root._bokeh_timeout) {\n",
       "      setTimeout(run_inline_js, 100);\n",
       "    } else if (!root._bokeh_failed_load) {\n",
       "      console.log(\"Bokeh: BokehJS failed to load within specified timeout.\");\n",
       "      root._bokeh_failed_load = true;\n",
       "    } else if (force !== true) {\n",
       "      var cell = $(document.getElementById(\"1802\")).parents('.cell').data().cell;\n",
       "      cell.output_area.append_execute_result(NB_LOAD_WARNING)\n",
       "    }\n",
       "\n",
       "  }\n",
       "\n",
       "  if (root._bokeh_is_loading === 0) {\n",
       "    console.debug(\"Bokeh: BokehJS loaded, going straight to plotting\");\n",
       "    run_inline_js();\n",
       "  } else {\n",
       "    load_libs(css_urls, js_urls, function() {\n",
       "      console.debug(\"Bokeh: BokehJS plotting callback run at\", now());\n",
       "      run_inline_js();\n",
       "    });\n",
       "  }\n",
       "}(window));"
      ],
      "application/vnd.bokehjs_load.v0+json": "\n(function(root) {\n  function now() {\n    return new Date();\n  }\n\n  var force = true;\n\n  if (typeof root._bokeh_onload_callbacks === \"undefined\" || force === true) {\n    root._bokeh_onload_callbacks = [];\n    root._bokeh_is_loading = undefined;\n  }\n\n  \n\n  \n  if (typeof (root._bokeh_timeout) === \"undefined\" || force === true) {\n    root._bokeh_timeout = Date.now() + 5000;\n    root._bokeh_failed_load = false;\n  }\n\n  var NB_LOAD_WARNING = {'data': {'text/html':\n     \"<div style='background-color: #fdd'>\\n\"+\n     \"<p>\\n\"+\n     \"BokehJS does not appear to have successfully loaded. If loading BokehJS from CDN, this \\n\"+\n     \"may be due to a slow or bad network connection. Possible fixes:\\n\"+\n     \"</p>\\n\"+\n     \"<ul>\\n\"+\n     \"<li>re-rerun `output_notebook()` to attempt to load from CDN again, or</li>\\n\"+\n     \"<li>use INLINE resources instead, as so:</li>\\n\"+\n     \"</ul>\\n\"+\n     \"<code>\\n\"+\n     \"from bokeh.resources import INLINE\\n\"+\n     \"output_notebook(resources=INLINE)\\n\"+\n     \"</code>\\n\"+\n     \"</div>\"}};\n\n  function display_loaded() {\n    var el = document.getElementById(\"1802\");\n    if (el != null) {\n      el.textContent = \"BokehJS is loading...\";\n    }\n    if (root.Bokeh !== undefined) {\n      if (el != null) {\n        el.textContent = \"BokehJS \" + root.Bokeh.version + \" successfully loaded.\";\n      }\n    } else if (Date.now() < root._bokeh_timeout) {\n      setTimeout(display_loaded, 100)\n    }\n  }\n\n\n  function run_callbacks() {\n    try {\n      root._bokeh_onload_callbacks.forEach(function(callback) {\n        if (callback != null)\n          callback();\n      });\n    } finally {\n      delete root._bokeh_onload_callbacks\n    }\n    console.debug(\"Bokeh: all callbacks have finished\");\n  }\n\n  function load_libs(css_urls, js_urls, callback) {\n    if (css_urls == null) css_urls = [];\n    if (js_urls == null) js_urls = [];\n\n    root._bokeh_onload_callbacks.push(callback);\n    if (root._bokeh_is_loading > 0) {\n      console.debug(\"Bokeh: BokehJS is being loaded, scheduling callback at\", now());\n      return null;\n    }\n    if (js_urls == null || js_urls.length === 0) {\n      run_callbacks();\n      return null;\n    }\n    console.debug(\"Bokeh: BokehJS not loaded, scheduling load and callback at\", now());\n    root._bokeh_is_loading = css_urls.length + js_urls.length;\n\n    function on_load() {\n      root._bokeh_is_loading--;\n      if (root._bokeh_is_loading === 0) {\n        console.debug(\"Bokeh: all BokehJS libraries/stylesheets loaded\");\n        run_callbacks()\n      }\n    }\n\n    function on_error() {\n      console.error(\"failed to load \" + url);\n    }\n\n    for (var i = 0; i < css_urls.length; i++) {\n      var url = css_urls[i];\n      const element = document.createElement(\"link\");\n      element.onload = on_load;\n      element.onerror = on_error;\n      element.rel = \"stylesheet\";\n      element.type = \"text/css\";\n      element.href = url;\n      console.debug(\"Bokeh: injecting link tag for BokehJS stylesheet: \", url);\n      document.body.appendChild(element);\n    }\n\n    for (var i = 0; i < js_urls.length; i++) {\n      var url = js_urls[i];\n      var element = document.createElement('script');\n      element.onload = on_load;\n      element.onerror = on_error;\n      element.async = false;\n      element.src = url;\n      console.debug(\"Bokeh: injecting script tag for BokehJS library: \", url);\n      document.head.appendChild(element);\n    }\n  };var element = document.getElementById(\"1802\");\n  if (element == null) {\n    console.error(\"Bokeh: ERROR: autoload.js configured with elementid '1802' but no matching script tag was found. \")\n    return false;\n  }\n\n  function inject_raw_css(css) {\n    const element = document.createElement(\"style\");\n    element.appendChild(document.createTextNode(css));\n    document.body.appendChild(element);\n  }\n\n  var js_urls = [\"https://cdn.pydata.org/bokeh/release/bokeh-1.3.4.min.js\", \"https://cdn.pydata.org/bokeh/release/bokeh-widgets-1.3.4.min.js\", \"https://cdn.pydata.org/bokeh/release/bokeh-tables-1.3.4.min.js\", \"https://cdn.pydata.org/bokeh/release/bokeh-gl-1.3.4.min.js\"];\n  var css_urls = [];\n\n  var inline_js = [\n    function(Bokeh) {\n      Bokeh.set_log_level(\"info\");\n    },\n    \n    function(Bokeh) {\n      \n    },\n    function(Bokeh) {} // ensure no trailing comma for IE\n  ];\n\n  function run_inline_js() {\n    \n    if ((root.Bokeh !== undefined) || (force === true)) {\n      for (var i = 0; i < inline_js.length; i++) {\n        inline_js[i].call(root, root.Bokeh);\n      }if (force === true) {\n        display_loaded();\n      }} else if (Date.now() < root._bokeh_timeout) {\n      setTimeout(run_inline_js, 100);\n    } else if (!root._bokeh_failed_load) {\n      console.log(\"Bokeh: BokehJS failed to load within specified timeout.\");\n      root._bokeh_failed_load = true;\n    } else if (force !== true) {\n      var cell = $(document.getElementById(\"1802\")).parents('.cell').data().cell;\n      cell.output_area.append_execute_result(NB_LOAD_WARNING)\n    }\n\n  }\n\n  if (root._bokeh_is_loading === 0) {\n    console.debug(\"Bokeh: BokehJS loaded, going straight to plotting\");\n    run_inline_js();\n  } else {\n    load_libs(css_urls, js_urls, function() {\n      console.debug(\"Bokeh: BokehJS plotting callback run at\", now());\n      run_inline_js();\n    });\n  }\n}(window));"
     },
     "metadata": {},
     "output_type": "display_data"
    },
    {
     "data": {
      "text/html": [
       "\n",
       "\n",
       "\n",
       "\n",
       "\n",
       "\n",
       "  <div class=\"bk-root\" id=\"12a0c133-17a6-42b0-b0c1-27749fa09815\" data-root-id=\"1803\"></div>\n"
      ]
     },
     "metadata": {},
     "output_type": "display_data"
    },
    {
     "data": {
      "application/javascript": [
       "(function(root) {\n",
       "  function embed_document(root) {\n",
       "    \n",
       "  var docs_json = {\"c998da58-76fc-46df-8827-d2c06b5a8a14\":{\"roots\":{\"references\":[{\"attributes\":{\"below\":[{\"id\":\"1814\",\"type\":\"LinearAxis\"}],\"center\":[{\"id\":\"1818\",\"type\":\"Grid\"},{\"id\":\"1823\",\"type\":\"Grid\"}],\"left\":[{\"id\":\"1819\",\"type\":\"LinearAxis\"}],\"renderers\":[{\"id\":\"1840\",\"type\":\"GlyphRenderer\"}],\"title\":{\"id\":\"1804\",\"type\":\"Title\"},\"toolbar\":{\"id\":\"1830\",\"type\":\"Toolbar\"},\"x_range\":{\"id\":\"1806\",\"type\":\"DataRange1d\"},\"x_scale\":{\"id\":\"1810\",\"type\":\"LinearScale\"},\"y_range\":{\"id\":\"1808\",\"type\":\"DataRange1d\"},\"y_scale\":{\"id\":\"1812\",\"type\":\"LinearScale\"}},\"id\":\"1803\",\"subtype\":\"Figure\",\"type\":\"Plot\"},{\"attributes\":{},\"id\":\"1895\",\"type\":\"UnionRenderers\"},{\"attributes\":{},\"id\":\"1896\",\"type\":\"Selection\"},{\"attributes\":{\"fill_alpha\":{\"value\":0.1},\"fill_color\":{\"value\":\"#1f77b4\"},\"line_alpha\":{\"value\":0.1},\"line_color\":{\"value\":\"#1f77b4\"},\"size\":{\"units\":\"screen\",\"value\":10},\"x\":{\"field\":\"x\"},\"y\":{\"field\":\"y\"}},\"id\":\"1839\",\"type\":\"Circle\"},{\"attributes\":{},\"id\":\"1894\",\"type\":\"BasicTickFormatter\"},{\"attributes\":{\"active_drag\":\"auto\",\"active_inspect\":\"auto\",\"active_multi\":null,\"active_scroll\":\"auto\",\"active_tap\":\"auto\",\"tools\":[{\"id\":\"1824\",\"type\":\"PanTool\"},{\"id\":\"1825\",\"type\":\"WheelZoomTool\"},{\"id\":\"1826\",\"type\":\"BoxZoomTool\"},{\"id\":\"1827\",\"type\":\"SaveTool\"},{\"id\":\"1828\",\"type\":\"ResetTool\"},{\"id\":\"1829\",\"type\":\"HelpTool\"}]},\"id\":\"1830\",\"type\":\"Toolbar\"},{\"attributes\":{},\"id\":\"1810\",\"type\":\"LinearScale\"},{\"attributes\":{\"overlay\":{\"id\":\"1897\",\"type\":\"BoxAnnotation\"}},\"id\":\"1826\",\"type\":\"BoxZoomTool\"},{\"attributes\":{\"dimension\":1,\"ticker\":{\"id\":\"1820\",\"type\":\"BasicTicker\"}},\"id\":\"1823\",\"type\":\"Grid\"},{\"attributes\":{\"ticker\":{\"id\":\"1815\",\"type\":\"BasicTicker\"}},\"id\":\"1818\",\"type\":\"Grid\"},{\"attributes\":{},\"id\":\"1827\",\"type\":\"SaveTool\"},{\"attributes\":{\"callback\":null},\"id\":\"1808\",\"type\":\"DataRange1d\"},{\"attributes\":{\"bottom_units\":\"screen\",\"fill_alpha\":{\"value\":0.5},\"fill_color\":{\"value\":\"lightgrey\"},\"left_units\":\"screen\",\"level\":\"overlay\",\"line_alpha\":{\"value\":1.0},\"line_color\":{\"value\":\"black\"},\"line_dash\":[4,4],\"line_width\":{\"value\":2},\"render_mode\":\"css\",\"right_units\":\"screen\",\"top_units\":\"screen\"},\"id\":\"1897\",\"type\":\"BoxAnnotation\"},{\"attributes\":{},\"id\":\"1892\",\"type\":\"BasicTickFormatter\"},{\"attributes\":{\"callback\":null},\"id\":\"1806\",\"type\":\"DataRange1d\"},{\"attributes\":{},\"id\":\"1812\",\"type\":\"LinearScale\"},{\"attributes\":{\"callback\":null,\"data\":{\"x\":[0,0,0,0,15,0,0,0,0,0,0,0,0,0,0,0,0,0,0,0,0,0,0,0,0,0,0,0,0,0,0,0,0,0,0,0,10,0,0,0,0,0,3,0,0,0,0,0,0,0,30,0,0,3,0,0,0,0,0,0,0,0,0,0,4,0,0,10,0,0,0,0,0,0,0,0,3,0,0,0,0,0,0,0,0,0,0,0,0,10,6,0,0,0,10,0,0,0,0,0,0,0,0,4,0,0,0,0,0,0,0,0,0,0,0,0,0,10,0,0,0,0,0,0,0,0,0,0,0,0,0,0,0,0,20,0,0,0,0,0,0,0,10,0,0,1,0,0,0,0,0,0,0,0,0,0,0,0,0,0,0,0,0,0,0,0,0,0,0,0,0,0,4,0,0,0,20,0,0,6,0,0,0,0,0,0,0,0,0,0,0,10,10,0,0,0,0,0,0,0,0,0,0,0,0,0,0,0,0,0,0,0,0,0,0,0,0,0,5,10,0,0,0,0,0,0,0,0,0,0,0,0,0,0,0,0,0,0,0,0,0,0,0,0,0,0,0,0,0,0,0,0,0,0,0,0,1,0,0,0,0,0,0,0,0,0,20,0,0,0,0,0,0,0,6,5,0,0,0,0,0,0,0,0,0,6,0,0,0,2,0,0,0,0,0,0,0,0,2,0,20,0,0,0,0,0,0,0,0,0,0,0,0,0,0,0,0,0,0,0,0,0,0,0,0,0,0,0,0,0,0,0,0,0,0,4,0,0,0,5,0,6,0,0,0,0,0,0,0,0,0,2,5,0,0,0,0,0,0,5,0,0,0,0,4,10,0,0,0,0,0,0,0,0,0,0,0,0,10,0,0,0,0,5,0,6,20,2,0,3,0,0,0,0,0,0,0,0,0,0,0,0,4,0,0,80,0,0,0,0,0,0,0,0,0,0,0,0,0,3,0,0,0,0,15,0,0,0,0,0,0,20,0,0,0,0,0,0,0,0,0,0,0,0,40,0,0,0,0,0,0,0,0,0,0,0,0,15,0,0,0,0,0,0,0,0,0,0,0,0,0,0,0,0,0,0,0,0,0,0,0,0,0,0,0,0,0,0,0,0,0,0,0,0,0,0,0,2,0,0,10,0,0,0,0,0,0,0,0,0,0,15,0,0,0,0,0,0,0,0,0,0,0,0,0,0,0,0,10,0,0,0,0,98,0,0,0,0,0,0,0,0,0,0,0,0,0,0,0,0,0,0,0,2,10,0,0,0,0,0,0,0,0,0,0,0,0,0,0,5,0,0,0,0,5,10,0,0,0,0,0,0,0,0,0,0,0,0,0,0,0,0,0,0,0,0,0,0,0,0,6,5,5,0,0,0,0,0,0,0,0,0,0,0,0,0,0,0,0,0,5,0,0,0,0,0,0,0,0,0,0,0,0,0,0,0,0,0,0,0,0,0,0,0,20,0,0,0,0,0,0,0,0,0,0,15,0,0,0,0,0,0,0,0,0,7,0,0,0,0,20,0,0,0,0,25,25,0,0,0,2,0,0,0,0,0,0,10,0,3,0,0,0,0,0,0,0,0,0,0,0,0,0,0,0,0,0,2,0,0,0,0,0,3,0,0,0,0,10,0,0,0,0,0,0,0,0,0,0,0,0,0,0,0,0,0,0,0,8,0,0,0,0,0,0,0,0,0,0,0,0,0,0,6,0,0,0,0,0,0,0,12,0,0,0,0,0,0,0,0,0,0,0,0,0,0,0,0,0,0,0,0,0,0,0,0,0,0,0,0,0,0,0,0,0,0,0,0,0,0,0,0,0,0,0,0,0,0,0,0,0,0,0,6,10,0,0,0,0,0,0,0,0,0,0,0,0,0,0,0,0,0,0,0,0,4,0,0,0,0,0,0,0,0,0,0,0,0,0,26,0,0,0,0,0,0,0,0,0,0,10,0,0,0,0,0,0,1,10,0,1,2,0,0,0,0,0,0,0,0,0,6,0,0,0,0,0,0,0,0,0,0,0,0,0,0,0,20,0,0,0,0,0,0,0,0,0,0,0,0,10,20,0,0,0,0,0,0,10,0,0,0,0,0,0,0,10,3,0,0,0,0,0,0,0,0,0,0,0,0,0,0,0,0,0,0,0,0,0,0,0,0,0,0,0,0,0,0,0,0,0,5,0,0,15,0,0,0,0,0,0,0,0,0,4,0,0,0,0,0,0,0,0,0,0,0,0,0,0,0,0,0,0,0,10,0,0,0,0,0,0,0,2,0,0,0,0,0,0,0,3,60,0,0,0,0,0,0,0,0,0,0,0,0,0,0,0,0,0,0,0,0,0,0,0,0,0,0,0,0,0,0,0,0,0,5,0,10,0,0,0,5,0,2,0,0,0,0,0,0,0,0,0,0,0,0,0,0,0,0,0,0,0,0,0,6,0,1,0,0,0,0,0,0,0,0,0,0,0,0,0,0,0,0,0,0,0,0,0,0,0,0,0,0,0,0,0,0,5,0,0,0,0,0,0,0,0,0,0,0,0,0,0,0,0,0,0,0,0,0,0,7,0,0,0,0,0,0,0,0,0,0,0,0,0,0,0,0,0,0,0,0,0,0,0,0,0,0,0,0,0,0,0,0,0,0,10,0,0,0,0,0,0,0,0,0,4,0,0,3,0,0,0,0,5,0,0,0,2,0,0,0,0,0,0,0,3,0,0,0,0,0,0,0,0,0,0,0,0,10,0,40,0,20,0,0,0,0,0,80,0,0,0,0,0,0,0,0,0,0,0,0,0,0,0,0,0,5,0,0,0,0,0,8,0,5,0,0,0,0,0,0,0,0,0,0,0,0,0,0,0,0,0,4,0,0,0,0,0,0,0,0,0,0,0,0,0,0,0,0,0,0,0,4,0,0,0,0,0,0,0,0,0,0,0,0,0,0,0,0,0,0,0,0,0,0,0,0,0,0,0,0,0,0,0,0,30,0,0,0,0,0,0,0,0,15,0,0,0,0,0,0,0,0,0,0,0,3,0,20,0,0,0,0,0,0,0,0,0,0,0,0,0,0,0,10,10,0,5,0,0,0,0,0,0,0,0,0,5,0,0,0,20,0,0,0,0,0,0,0,0,0,0,0,0,0,0,0,0,0,0,0,0,0,0,0,0,0,0,3,0,0,0,0,0,0,0,0,0,0,0,0,0,0,0,0,0,0,0,0,0,0,10,0,0,0,0,0,0,0,0,0,0,4,0,0,0,0,0,0,0,0,0,0,0,0,0,0,0,0,0,0,0,0,0,0,0,0,0,0,0,5,0,0,0,0,0,0,0,0,0,0,0,0,0,0,0,0,0,0,7,0,0,0,0,0,2,0,0,20,0,0,0,0,0,0,0,0,0,0,0,0,0,0,0,0,0,0,0,0,0,0,0,0,0,80,0,0,0,0,0,0,0,0,0,0,0,0,0,0,0,0,5,0,0,0,0,0,0,0,0,0,0,0,0,0,0,0,0,0,0,0,0,0,0,0,10,0,0,0,0,0,0,0,0,0,0,2,0,10,0,0,0,0,0,0,0,0,0,0,0,0,0,0,0,2,20,0,0,0,0,0,0,0,0,0,0,0,0,0,0,0,0,0,0,0,0,4,7,6,0,5,0,0,0,0,0,0,0,0,0,0,0,0,0,0,0,0,14,0,0,10,0,0,0,0,0,0,0,0,0,0,0,0,0,0,0,0,0,5,0,0,0,0,0,0,0,0,0,0,0,0,0,0,0,0,30,0,0,0,60,0,0,10,0,0,3,0,0,0,0,5,0,0,0,0,0,0,0,0,0,0,0,0,0,0,0,0,0,0,0,0,0,0,0,0,0,0,0,4,0,0,0,10,0,0,0,0,0,10,0,0,0,0,10,5,0,0,0,0,0,0,0,0,0,0,0,0,0,0,0,0,0,0,0,0,0,0,0,20,0,0,0,20,0,0,0,0,0,10,0,0,0,0,0,0,0,0,0,0,0,0,0,0,0,10,0,0,10,0,0,0,0,0,0,0,0,0,0,0,0,0,0,0,0,0,20,0,0,0,0,7,0,0,0,5,0,0,0,0,0,0,0,0,0,0,0,0,0,0,0,0,0,0,0,0,0,0,0,0,0,0,0,0,0,3,0,0,0,0,0,0,20,0,0,0,0,0,0,0,3,0,0,0,0,0,0,0,0,0,0,0,0,0,0,0,0,0,0,0,2,0,0,0,0,0,0,5,20,0,0,0,0,0,0,0,0,0,0,0,0,0,0,3,0,0,0,0,0,0,0,10,0,0,0,8,3,2,0,0,0,0,0,0,0,0,0,0,0,0,0,0,0,0,0,0,7,0,0,20,0,0,0,0,0,20,0,0,0,0,0,0,0,0,0,0,0,0,0,0,6,0,0,0,0,0,40,0,0,0,0,0,0,0,0,0,0,0,0,0,0,0,0,0,0,0,0,0,0,0,0,0,0,0,0,0,0,0,0,0,0,0,0,20,0,0,7,0,0,0,0,0,0,0,0,0,8,2,0,0,0,0,0,0,0,0,0,0,0,0,0,0,0,0,0,0,0,0,0,0,20,0,0,0,7,3,0,0,0,0,0,0,0,0,0,0,20,0,0,7,0,20,0,0,0,0,0,4,5,0,0,0,0,0,0,0,0,0,0,0,0,0,0,20,0,0,0,0,0,0,10,0,0,0,0,0,0,0,0,0,0,0,20,0,0,0,80,0,0,20,0,0,0,0,0,0,0,0,5,0,0,0,0,0,0,0,0,0,0,0,10,0,0,0,0,2,0,20,0,0,0,0,0,0,0,4,0,0,0,0,0,0,0,0,0,0,0,0,0,0,0,0,5,0,0,0,10,0,0,0,0,0,0,0,0,0,0,0,0,0,0,0,0,0,0,0,0,10,5,10,2,0,0,0,0,0,0,0,0,0,0,0,0,0,0,0,0,0,0,0,0,0,0,0,0,0,0,0,0,0,0,0,0,0,0,0,0,0,0,0,0,0,0,0,0,0,0,0,0,0,0,0,0,0,0,0,0,0,0,0,0,0,0,0,0,0,0,0,10,0,0,0,0,0,0,0,0,0,0,0,0,3,2,0,0,0,20,0,0,0,0,0,0,0,0,0,2,0,0,0,0,0,0,0,0,0,3,0,10,0,0,0,0,0,0,0,0,0,0,0,0,0,0,0,0,0,5,10,0,0,0,0,0,0,0,0,0,0,25,0,0,0,0,0,0,0,0,0,0,0,0,0,0,0,0,0,0,0,0,0,0,0,0,0,0,0,0,0,12,0,0,9,0,0,0,0,0,3,0,0,10,0,0,0,0,0,0,0,0,0,0,0,10,0,0,0,0,0,0,0,0,0,0,0,0,0,0,0,0,0,0,0,0,0,0,0,0,0,0,0,0,0,0,0,0,0,0,0,0,0,0,20,0,0,0,0,0,0,0,0,0,0,8,0,10,0,0,0,0,0,0,10,0,0,0,0,0,0,0,0,0,0,0,0,0,0,4,0,20,0,0,0,0,0,0,0,0,0,0,0,0,0,0,0,0,2,0,0,0,0,0,0,0,0,0,0,0,0,0,0,0,0,0,0,0,0,40,0,0,0,0,0,0,0,0,0,0,0,0,0],\"y\":[31,33,36,26,19,20,20,34,41,36,22,33,26,19,21,24,22,33,34,32,33,30,29,35,35,44,44,32,28,21,33,28,33,19,34,30,26,40,20,21,35,37,34,34,34,28,18,36,38,30,31,29,34,27,30,24,28,34,31,19,35,22,35,23,21,29,27,22,36,33,21,33,39,33,16,26,18,39,21,18,24,21,32,18,27,43,28,30,39,23,23,36,20,36,31,34,30,28,20,20,30,39,30,35,26,22,23,23,20,38,29,21,29,36,35,25,33,21,40,22,25,29,30,31,24,30,32,35,27,22,25,27,22,28,23,33,27,29,29,35,35,30,39,25,25,18,25,23,27,31,35,28,37,19,39,30,24,24,28,34,29,31,30,31,31,25,36,30,35,37,26,29,30,36,26,24,30,28,27,18,34,36,37,24,27,33,33,33,34,20,17,31,31,26,30,23,26,27,35,26,35,32,36,36,17,26,26,23,27,20,34,27,34,31,34,35,20,26,21,24,34,28,26,25,26,28,33,33,34,20,36,31,33,25,36,31,21,29,34,23,32,32,28,32,19,27,25,33,31,30,24,30,22,20,30,31,24,30,27,35,35,25,23,30,37,19,34,32,23,28,23,22,25,23,42,22,23,36,23,32,32,26,23,33,28,27,18,50,34,19,23,27,42,28,25,27,17,19,21,32,20,34,41,22,41,34,28,22,22,30,29,37,36,29,35,28,31,36,25,24,46,19,29,30,35,22,26,24,28,26,30,24,18,28,24,26,26,30,22,34,19,34,27,35,33,30,35,40,28,35,25,32,22,23,31,44,29,31,29,26,36,41,42,39,27,22,24,25,31,27,25,41,39,39,22,40,24,23,26,39,37,35,34,24,22,27,19,23,32,18,27,24,25,29,19,26,17,26,26,28,22,28,25,35,16,34,34,22,29,22,31,34,25,35,31,29,32,32,19,23,32,29,31,27,35,39,30,29,30,27,30,24,22,29,26,29,24,29,21,41,25,27,22,24,20,26,27,25,27,29,23,26,37,24,32,31,29,29,34,29,38,28,25,35,28,30,33,31,27,26,31,28,28,31,31,26,26,20,27,26,33,31,39,27,23,27,32,23,29,23,22,24,31,36,34,33,30,17,22,34,25,28,25,27,23,32,31,30,24,24,22,26,20,29,31,33,30,28,34,25,29,23,23,33,30,22,29,18,26,28,33,36,32,20,35,29,26,34,28,28,31,30,30,35,38,32,34,36,24,32,26,30,36,18,35,23,34,28,35,37,20,30,39,22,25,26,28,38,26,19,39,29,39,21,25,20,31,33,18,37,37,34,22,29,26,28,36,39,29,24,29,29,27,28,25,17,30,23,31,21,19,26,26,26,24,32,42,25,33,27,28,29,24,26,28,23,27,25,21,35,29,25,36,26,22,38,27,29,44,31,22,24,34,30,34,35,28,25,20,28,31,31,31,24,35,31,26,24,27,17,26,29,42,35,21,23,35,24,22,24,25,39,25,30,28,21,25,29,22,27,31,23,29,27,34,20,20,22,27,19,24,35,34,18,25,17,32,22,17,25,22,37,24,37,27,25,32,25,24,36,26,28,22,26,34,32,33,23,34,18,28,37,34,26,28,31,37,29,29,27,19,25,25,28,32,27,32,31,33,32,42,22,29,36,28,34,36,34,26,44,35,24,22,32,23,28,16,26,39,23,27,29,23,19,35,21,36,22,29,31,34,35,23,31,26,41,23,23,35,34,35,36,37,32,25,33,22,34,29,23,24,19,35,36,21,34,28,29,41,26,38,27,36,25,20,19,25,32,28,35,31,29,33,28,24,28,23,30,33,31,27,25,36,34,26,29,29,27,30,41,28,33,46,35,31,33,26,20,19,32,34,24,23,26,33,23,32,31,28,35,34,29,30,23,27,36,28,21,27,36,32,25,30,38,20,24,31,18,30,18,36,36,30,32,22,27,30,21,18,19,24,22,35,20,26,28,31,29,26,30,26,28,19,24,24,27,23,28,45,35,30,22,32,30,18,20,32,31,20,34,26,23,32,25,35,47,20,27,35,36,20,27,22,22,33,27,28,25,24,28,30,33,32,20,24,20,29,26,36,44,24,34,23,28,34,28,30,26,20,36,22,30,33,22,20,26,37,36,22,31,39,26,30,36,26,26,27,28,29,28,27,32,25,20,29,25,26,36,22,23,30,38,21,36,26,33,43,35,24,32,33,20,23,25,25,24,38,25,25,37,28,39,37,18,26,27,33,39,33,31,29,24,24,36,33,20,38,30,32,36,21,28,20,31,23,31,27,27,28,32,29,31,25,23,28,30,21,28,23,38,28,30,22,26,26,32,35,31,35,25,25,36,34,40,29,31,35,28,25,26,24,20,19,32,28,27,34,23,35,30,35,35,32,27,33,36,34,34,39,38,27,27,24,37,26,28,34,23,22,32,26,31,28,26,27,33,20,35,35,21,20,27,34,24,21,23,21,24,24,21,32,31,23,31,27,26,28,24,24,20,34,26,22,27,29,33,30,22,25,21,40,31,39,22,26,30,34,28,31,28,35,35,21,30,23,31,21,24,30,24,36,29,25,35,29,17,24,40,34,33,31,26,32,23,35,27,36,28,27,28,25,32,26,27,20,26,29,35,32,28,23,31,35,26,33,26,37,18,37,22,31,36,21,32,25,31,34,16,42,19,32,35,26,24,22,35,20,33,26,27,17,17,26,19,32,30,32,29,27,40,37,21,28,19,40,27,27,22,21,21,21,17,20,28,30,22,23,33,32,20,21,21,28,30,24,25,25,28,31,34,31,31,34,25,24,26,18,27,33,39,41,34,42,42,33,38,25,33,18,29,22,26,32,43,33,29,31,19,28,31,34,26,32,26,41,29,35,35,33,22,25,27,21,39,22,31,28,24,17,23,29,17,23,27,32,41,28,29,22,17,19,25,28,29,30,23,30,39,26,27,34,26,32,25,21,35,18,20,22,29,29,25,32,30,27,23,26,26,33,36,35,31,20,19,38,30,25,23,27,29,25,22,33,29,28,30,30,22,21,18,21,21,27,26,32,40,36,36,23,24,23,28,37,27,33,43,29,35,33,27,28,30,36,30,28,23,28,22,32,23,32,27,31,37,29,31,22,24,33,37,31,34,24,25,30,24,27,28,30,28,27,32,19,38,28,24,28,31,24,26,27,18,23,24,33,23,21,40,23,29,22,32,30,23,28,27,25,31,29,34,30,24,22,26,26,24,18,25,25,32,25,39,37,28,30,33,27,35,30,31,34,35,22,35,37,34,23,27,29,33,35,31,35,33,45,24,32,19,30,21,28,24,27,27,40,41,29,29,26,31,41,28,22,32,39,29,26,33,21,22,29,30,37,37,29,36,31,25,40,26,31,22,34,37,21,29,30,28,30,29,31,24,33,22,32,36,31,29,27,24,27,28,41,26,29,33,24,21,31,33,25,33,26,33,22,31,35,17,26,23,20,32,28,21,32,28,21,39,39,44,33,19,26,19,23,23,31,21,29,31,27,19,32,27,33,33,27,22,42,24,32,26,30,25,22,23,23,33,24,31,21,27,26,22,18,29,23,18,27,21,27,31,35,31,37,34,24,26,19,30,29,28,32,31,32,35,18,23,22,19,24,30,21,25,26,29,24,27,33,33,38,37,32,26,29,27,32,25,26,30,33,21,29,26,31,29,31,24,19,28,19,30,24,22,22,22,21,38,32,36,20,23,30,26,31,32,32,32,29,34,37,37,30,20,32,30,27,21,32,27,26,29,39,26,22,19,28,45,30,35,31,30,34,32,30,26,36,35,24,36,27,32,34,29,30,34,25,31,28,32,28,20,22,34,29,21,19,26,35,32,28,17,32,38,18,23,41,31,22,30,27,29,22,33,21,37,32,23,23,22,39,33,21,23,20,23,29,16,25,21,27,30,28,35,36,27,28,32,38,38,19,28,37,28,24,22,30,22,36,23,35,25,42,28,36,34,20,38,27,17,28,25,29,21,29,28,27,28,34,37,38,19,34,28,32,24,27,37,21,28,31,41,36,23,31,24,25,37,25,22,29,32,29,27,31,31,27,35,27,34,34,37,32,24,24,39,37,27,22,36,26,33,23,38,30,35,37,30,35,18,22,29,21,36,38,24,35,19,32,27,32,20,39,38,32,35,23,27,26,28,38,25,42,27,21,34,49,36,23,20,25,31,28,21,30,19,26,21,33,31,23,31,23,30,29,23,27,25,23,35,29,35,41,25,20,33,35,21,23,29,20,27,20,27,23,25,20,35,29,21,34,26,35,36,18,31,29,28,30,17,28,34,36,20,31,35,23,30,33,34,33,26,30,37,26,26,30,25,31,29,27,39,34,28,32,22,33,30,23,33,33,31,27,31,26,27,31,25,36,34,27,35,26,21,21,40,30,26,27,26,35,26,37,40,38,24,31,30,24,25,25,37,23,29,32,25,30,23,20,24,24,27,21,27,34,31,32,34,34,20,23,37,30,27,22,23,22,27,38,36,32,27,14,20,27,35,24,35,28,26,23,28,31,30,32,21,20,22,33,27,22,24,26,34,31,32,17,35,22,35,28,32,22,31,21,19,26,19,31,35,26,33,37,26,36,31,34,26,24,29,30,24,28,23,25,30,24,30,27,36,29,31,28,31,31,33,25,29,28,27,32,27,37,35,24,33,26,25,24,19,28,26,35,27,37,28,20,18,37,29,32,22,18,29,26,29,26,20,37,18,36,32,22,33,42,28,39,33,29,28,25,36,33,19,32,28,27,21,33,25,35,28,30,28,31,29,21,20,34,29,29,23,29,27,33,29,26,30,23,22,31,34,21,27,23,29,27,32,24,28,22,35,27,27,34,27,34,26,23,26,31,26,25,31,27,30,31,34,29,33,26,26,29,35,32,29,29,28,30,35,29,29,25,19,25,33,33,25,33,25,24,31,31,34,41,32,30,32,21,22,25,23,44,29,26,26,29,23,30,22,36,23,38,20,39,23,23,27,25,19,25,23,23,34,39,35,23,20,26,26,21,35,37,25,26,20,27,32,26,34,29,40,20,24,24,26,33,25,26,30,35,29,28,22,25,21,28,31,21,29,22,26,23,27,25,23,24,19,25,22,20,26,29,24,22,19,23,23,19,24,38,34,25,32,22,25,29,28,23,34,23,32,24,27,32,25,29,22,25,30,24,20,20,24,26,32,42,21,21,33,26,26,34,28,31,29,22,36,25,26,24,25,35,26,21,29,20,37,28,30,29,37,25,26,26,34,28,29,30,23,24,19,31,29,14,27,18,26,34,18,32,30,18,23,27,24,23,23,29,27,20,27,27,35,37,23,23,21,39,32,19,24,38,32,35,25,29,29,35,25,19,30,25,24,25,27,20,33,36,33,20,40,28,40,27,35,27,25,29,28,27,27,23,25,27,36,23,26,28,26,24,30,26,29,31,28,27,24,32,26,32,26,33,29,40,22,38,21,21,19,25,36,26,31,23,24,25,30,29,24,34,31,33,27,18,20,33,34,21,21,34,26,25,32,27,25,36,32,18,17,25,36,28,27,42,22,37,22,25,23,33,45,23,30,45,31,31,29,38,22,28,30,27,28,31,28,27,26,26,36,33,34,30,29,35,20,22,28,32,29]},\"selected\":{\"id\":\"1896\",\"type\":\"Selection\"},\"selection_policy\":{\"id\":\"1895\",\"type\":\"UnionRenderers\"}},\"id\":\"1837\",\"type\":\"ColumnDataSource\"},{\"attributes\":{},\"id\":\"1825\",\"type\":\"WheelZoomTool\"},{\"attributes\":{\"source\":{\"id\":\"1837\",\"type\":\"ColumnDataSource\"}},\"id\":\"1841\",\"type\":\"CDSView\"},{\"attributes\":{\"fill_alpha\":{\"value\":0.2},\"fill_color\":{\"value\":\"#1f77b4\"},\"line_color\":{\"value\":\"#1f77b4\"},\"size\":{\"units\":\"screen\",\"value\":10},\"x\":{\"field\":\"x\"},\"y\":{\"field\":\"y\"}},\"id\":\"1838\",\"type\":\"Circle\"},{\"attributes\":{},\"id\":\"1828\",\"type\":\"ResetTool\"},{\"attributes\":{},\"id\":\"1824\",\"type\":\"PanTool\"},{\"attributes\":{},\"id\":\"1815\",\"type\":\"BasicTicker\"},{\"attributes\":{\"data_source\":{\"id\":\"1837\",\"type\":\"ColumnDataSource\"},\"glyph\":{\"id\":\"1838\",\"type\":\"Circle\"},\"hover_glyph\":null,\"muted_glyph\":null,\"nonselection_glyph\":{\"id\":\"1839\",\"type\":\"Circle\"},\"selection_glyph\":null,\"view\":{\"id\":\"1841\",\"type\":\"CDSView\"}},\"id\":\"1840\",\"type\":\"GlyphRenderer\"},{\"attributes\":{},\"id\":\"1820\",\"type\":\"BasicTicker\"},{\"attributes\":{\"axis_label\":\"Mother Age\",\"formatter\":{\"id\":\"1892\",\"type\":\"BasicTickFormatter\"},\"ticker\":{\"id\":\"1820\",\"type\":\"BasicTicker\"}},\"id\":\"1819\",\"type\":\"LinearAxis\"},{\"attributes\":{\"text\":\"Relationship between mother smoking habit and her age\"},\"id\":\"1804\",\"type\":\"Title\"},{\"attributes\":{},\"id\":\"1829\",\"type\":\"HelpTool\"},{\"attributes\":{\"axis_label\":\"Number of Daily Cigarettes in First Trimester\",\"formatter\":{\"id\":\"1894\",\"type\":\"BasicTickFormatter\"},\"ticker\":{\"id\":\"1815\",\"type\":\"BasicTicker\"}},\"id\":\"1814\",\"type\":\"LinearAxis\"}],\"root_ids\":[\"1803\"]},\"title\":\"Bokeh Application\",\"version\":\"1.3.4\"}};\n",
       "  var render_items = [{\"docid\":\"c998da58-76fc-46df-8827-d2c06b5a8a14\",\"roots\":{\"1803\":\"12a0c133-17a6-42b0-b0c1-27749fa09815\"}}];\n",
       "  root.Bokeh.embed.embed_items_notebook(docs_json, render_items);\n",
       "\n",
       "  }\n",
       "  if (root.Bokeh !== undefined) {\n",
       "    embed_document(root);\n",
       "  } else {\n",
       "    var attempts = 0;\n",
       "    var timer = setInterval(function(root) {\n",
       "      if (root.Bokeh !== undefined) {\n",
       "        embed_document(root);\n",
       "        clearInterval(timer);\n",
       "      }\n",
       "      attempts++;\n",
       "      if (attempts > 100) {\n",
       "        console.log(\"Bokeh: ERROR: Unable to run BokehJS code because BokehJS library is missing\");\n",
       "        clearInterval(timer);\n",
       "      }\n",
       "    }, 10, root)\n",
       "  }\n",
       "})(window);"
      ],
      "application/vnd.bokehjs_exec.v0+json": ""
     },
     "metadata": {
      "application/vnd.bokehjs_exec.v0+json": {
       "id": "1803"
      }
     },
     "output_type": "display_data"
    }
   ],
   "source": [
    "%%local\n",
    "output_notebook()\n",
    "p = figure(title = 'Relationship between mother smoking habit and her age')\n",
    "p.xaxis.axis_label = 'Number of Daily Cigarettes in First Trimester'\n",
    "p.yaxis.axis_label = 'Mother Age'\n",
    "\n",
    "p.circle(  list(scatter['cig_1'])\n",
    "         , list(scatter['mager'])\n",
    "         , fill_alpha=0.2, size=10)\n",
    "\n",
    "show(p)"
   ]
  },
  {
   "cell_type": "markdown",
   "metadata": {},
   "source": [
    "#### C. Handling Missing Observations:\n",
    "\n",
    "By visualizing the distribution, it can be seen that most of missing observations are coded as 99/9 in many cases. Therefore, these would be cleaned.\n",
    "\n",
    "First, we choose only the columns that potentially helpful for our model building purpose:"
   ]
  },
  {
   "cell_type": "code",
   "execution_count": 82,
   "metadata": {},
   "outputs": [
    {
     "data": {
      "application/vnd.jupyter.widget-view+json": {
       "model_id": "6de92e5f3d274b85857de6fb2be8d5f7",
       "version_major": 2,
       "version_minor": 0
      },
      "text/plain": [
       "VBox()"
      ]
     },
     "metadata": {},
     "output_type": "display_data"
    },
    {
     "data": {
      "application/vnd.jupyter.widget-view+json": {
       "model_id": "",
       "version_major": 2,
       "version_minor": 0
      },
      "text/plain": [
       "FloatProgress(value=0.0, bar_style='info', description='Progress:', layout=Layout(height='25px', width='50%'),…"
      ]
     },
     "metadata": {},
     "output_type": "display_data"
    }
   ],
   "source": [
    "#List of columns to keep\n",
    "cols_to_keep = ['mager','ilive','me_rout','ld_indl','no_risks','previs','cig_1','bmi','no_infec']\n",
    "cat_cols = ['me_rout','ld_indl','no_risks','previs','no_infec']\n",
    "#Select only those column\n",
    "birth_subset = birth.select(cols_to_keep)"
   ]
  },
  {
   "cell_type": "code",
   "execution_count": 70,
   "metadata": {},
   "outputs": [
    {
     "data": {
      "application/vnd.jupyter.widget-view+json": {
       "model_id": "9f271042895647a7a334230e0fe2d111",
       "version_major": 2,
       "version_minor": 0
      },
      "text/plain": [
       "VBox()"
      ]
     },
     "metadata": {},
     "output_type": "display_data"
    },
    {
     "data": {
      "application/vnd.jupyter.widget-view+json": {
       "model_id": "",
       "version_major": 2,
       "version_minor": 0
      },
      "text/plain": [
       "FloatProgress(value=0.0, bar_style='info', description='Progress:', layout=Layout(height='25px', width='50%'),…"
      ]
     },
     "metadata": {},
     "output_type": "display_data"
    },
    {
     "name": "stdout",
     "output_type": "stream",
     "text": [
      "ilive [('Y', 3848096), ('N', 10218), ('U', 6440)] \n",
      "\n",
      "me_rout [(1, 2507646), (4, 1235362), (3, 99170), (2, 20324), (9, 2252)] \n",
      "\n",
      "ld_indl [('N', 2868959), ('Y', 993349), ('U', 2446)] \n",
      "\n",
      "no_risks [(1, 2696943), (0, 1164025), (9, 3786)] \n",
      "\n",
      "previs [(12, 600237), (10, 510583), (11, 376693), (13, 367822), (14, 313689), (9, 250326), (15, 242996), (8, 211345), (7, 132480), (16, 121609), (6, 105583), (99, 97986), (5, 79474), (0, 66824), (17, 59797), (4, 56012), (18, 47135), (20, 44112), (3, 40067), (2, 28393), (19, 25857), (1, 17314), (21, 13019), (22, 10522), (25, 8500), (23, 7487), (24, 6468), (30, 5128), (26, 3258), (27, 2450), (28, 2197), (29, 1378), (40, 1003), (32, 828), (35, 810), (31, 803), (33, 579), (39, 554), (34, 540), (38, 500), (36, 493), (37, 376), (49, 334), (41, 198), (42, 145), (45, 143), (50, 103), (43, 94), (44, 93), (46, 87), (47, 85), (48, 80), (60, 32), (55, 12), (52, 11), (54, 10), (56, 9), (57, 9), (72, 7), (51, 7), (53, 6), (59, 5), (61, 5), (75, 4), (58, 4), (98, 4), (70, 4), (76, 3), (79, 3), (62, 3), (64, 3), (65, 3), (66, 3), (80, 2), (81, 2), (63, 2), (68, 2), (90, 1), (91, 1), (74, 1), (94, 1), (77, 1), (78, 1), (83, 1), (67, 1), (69, 1), (89, 1)] \n",
      "\n",
      "no_infec [(1, 3749957), (0, 104698), (9, 10099)]"
     ]
    }
   ],
   "source": [
    "#Examine the count of values in categorical to understand how missing value is coded, together with using the data dictionary \n",
    "#from the souce:\n",
    "rdd_cat = (\n",
    "    birth_subset\n",
    "    .select(cat_cols + ['ilive'])\n",
    "    .rdd\n",
    "    .map(lambda row: [e for e in row])\n",
    ")\n",
    "\n",
    "#Create an empty dictionary\n",
    "results_cat = {}\n",
    "\n",
    "for i, col in enumerate(cat_cols + ['ilive']):\n",
    "    results_cat[col] = (\n",
    "        rdd_cat\n",
    "        .groupBy(lambda row: row[i]) #group by distinct values in column i\n",
    "        .map(lambda el: (el[0], len(el[1]))) #map to (category name, count)\n",
    "        .collect()\n",
    "    )\n",
    "    \n",
    "#print the results\n",
    "for k in results_cat:\n",
    "    print(\n",
    "        k #column name, dictionary key\n",
    "        , sorted( #sort by frequency of each category, descending\n",
    "            results_cat[k] #print results\n",
    "            , key=lambda el: el[1] #use frequency for sorting\n",
    "            , reverse=True)\n",
    "        , '\\n')"
   ]
  },
  {
   "cell_type": "code",
   "execution_count": 77,
   "metadata": {},
   "outputs": [
    {
     "data": {
      "application/vnd.jupyter.widget-view+json": {
       "model_id": "c5c632490248429cbdc00eb5325ef50a",
       "version_major": 2,
       "version_minor": 0
      },
      "text/plain": [
       "VBox()"
      ]
     },
     "metadata": {},
     "output_type": "display_data"
    },
    {
     "data": {
      "application/vnd.jupyter.widget-view+json": {
       "model_id": "",
       "version_major": 2,
       "version_minor": 0
      },
      "text/plain": [
       "FloatProgress(value=0.0, bar_style='info', description='Progress:', layout=Layout(height='25px', width='50%'),…"
      ]
     },
     "metadata": {},
     "output_type": "display_data"
    }
   ],
   "source": [
    "#Filter out the value where encoded as unknown or no documneted\n",
    "birth_subset_nonull = birth_subset.filter((birth_subset.ilive != 'U') & (birth_subset.no_risks != 9)\n",
    "                                          & (birth_subset.me_rout != 9) & (birth_subset.previs !=99) & \n",
    "                                          (birth_subset.no_infec !=9) & (birth_subset.ld_indl != 'U') &\n",
    "                                         (birth_subset.bmi != 99.9) & (birth_subset.cig_1 != 99))"
   ]
  },
  {
   "cell_type": "code",
   "execution_count": 79,
   "metadata": {},
   "outputs": [
    {
     "data": {
      "application/vnd.jupyter.widget-view+json": {
       "model_id": "25d465f1b501444394cdcabb083abbf0",
       "version_major": 2,
       "version_minor": 0
      },
      "text/plain": [
       "VBox()"
      ]
     },
     "metadata": {},
     "output_type": "display_data"
    },
    {
     "data": {
      "application/vnd.jupyter.widget-view+json": {
       "model_id": "",
       "version_major": 2,
       "version_minor": 0
      },
      "text/plain": [
       "FloatProgress(value=0.0, bar_style='info', description='Progress:', layout=Layout(height='25px', width='50%'),…"
      ]
     },
     "metadata": {},
     "output_type": "display_data"
    }
   ],
   "source": [
    "no_null_count = birth_subset_nonull.count()"
   ]
  },
  {
   "cell_type": "code",
   "execution_count": 81,
   "metadata": {},
   "outputs": [
    {
     "data": {
      "application/vnd.jupyter.widget-view+json": {
       "model_id": "b85489a0b6bb41d49ab90846ae96d7dc",
       "version_major": 2,
       "version_minor": 0
      },
      "text/plain": [
       "VBox()"
      ]
     },
     "metadata": {},
     "output_type": "display_data"
    },
    {
     "data": {
      "application/vnd.jupyter.widget-view+json": {
       "model_id": "",
       "version_major": 2,
       "version_minor": 0
      },
      "text/plain": [
       "FloatProgress(value=0.0, bar_style='info', description='Progress:', layout=Layout(height='25px', width='50%'),…"
      ]
     },
     "metadata": {},
     "output_type": "display_data"
    },
    {
     "name": "stdout",
     "output_type": "stream",
     "text": [
      "The cleaning process has removed 206022 cases"
     ]
    }
   ],
   "source": [
    "print('The cleaning process has removed {} cases'.format(rows - no_null_count))"
   ]
  },
  {
   "cell_type": "code",
   "execution_count": 111,
   "metadata": {},
   "outputs": [
    {
     "data": {
      "application/vnd.jupyter.widget-view+json": {
       "model_id": "04ca8104b3f5403a8afee4a5b75d514d",
       "version_major": 2,
       "version_minor": 0
      },
      "text/plain": [
       "VBox()"
      ]
     },
     "metadata": {},
     "output_type": "display_data"
    },
    {
     "data": {
      "application/vnd.jupyter.widget-view+json": {
       "model_id": "",
       "version_major": 2,
       "version_minor": 0
      },
      "text/plain": [
       "FloatProgress(value=0.0, bar_style='info', description='Progress:', layout=Layout(height='25px', width='50%'),…"
      ]
     },
     "metadata": {},
     "output_type": "display_data"
    },
    {
     "name": "stdout",
     "output_type": "stream",
     "text": [
      "+-------+------------------+------------------+------------------+-----------------+\n",
      "|summary|             cig_1|            previs|               bmi|            mager|\n",
      "+-------+------------------+------------------+------------------+-----------------+\n",
      "|  count|           3658732|           3658732|           3658732|          3658732|\n",
      "|   mean|0.7116050041380456|11.341786444046736|26.978012273098482|28.85527199040542|\n",
      "| stddev|3.4374776287607087|  4.15208061002399| 6.700234623342449|5.806033805750309|\n",
      "|    min|                 0|                 0|              13.0|               12|\n",
      "|    max|                98|                98|              68.9|               50|\n",
      "+-------+------------------+------------------+------------------+-----------------+"
     ]
    }
   ],
   "source": [
    "descriptive_stats = birth_subset_nonull.describe(['cig_1','previs','bmi','mager'])\n",
    "descriptive_stats.show()"
   ]
  },
  {
   "cell_type": "markdown",
   "metadata": {},
   "source": [
    "As from the previous analysis, we would not exclude the outlier in cig_1 and previs since it might contain interesting correlation towards natal mortality."
   ]
  }
 ],
 "metadata": {
  "kernelspec": {
   "display_name": "PySpark",
   "language": "",
   "name": "pysparkkernel"
  },
  "language_info": {
   "codemirror_mode": {
    "name": "python",
    "version": 2
   },
   "mimetype": "text/x-python",
   "name": "pyspark",
   "pygments_lexer": "python2"
  }
 },
 "nbformat": 4,
 "nbformat_minor": 2
}
